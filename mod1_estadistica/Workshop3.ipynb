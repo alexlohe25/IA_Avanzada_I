{
  "nbformat": 4,
  "nbformat_minor": 0,
  "metadata": {
    "colab": {
      "name": "Workshop3.ipynb",
      "provenance": []
    },
    "kernelspec": {
      "name": "python3",
      "display_name": "Python 3"
    },
    "language_info": {
      "name": "python"
    }
  },
  "cells": [
    {
      "cell_type": "code",
      "source": [
        "!pip install pandas_datareader\n",
        "!pip install yfinance\n",
        "!pip install matplotlib\n",
        "!pip install researchpy\n",
        "!pip install --upgrade pandas\n",
        "!pip install --upgrade pandas-datareader"
      ],
      "metadata": {
        "colab": {
          "base_uri": "https://localhost:8080/"
        },
        "id": "cOyZjEvuqRSO",
        "outputId": "b92c1a36-d5b6-4ea4-b17c-920497a992bc"
      },
      "execution_count": 21,
      "outputs": [
        {
          "output_type": "stream",
          "name": "stdout",
          "text": [
            "Looking in indexes: https://pypi.org/simple, https://us-python.pkg.dev/colab-wheels/public/simple/\n",
            "Requirement already satisfied: pandas_datareader in /usr/local/lib/python3.7/dist-packages (0.10.0)\n",
            "Requirement already satisfied: lxml in /usr/local/lib/python3.7/dist-packages (from pandas_datareader) (4.9.1)\n",
            "Requirement already satisfied: requests>=2.19.0 in /usr/local/lib/python3.7/dist-packages (from pandas_datareader) (2.28.1)\n",
            "Requirement already satisfied: pandas>=0.23 in /usr/local/lib/python3.7/dist-packages (from pandas_datareader) (1.3.5)\n",
            "Requirement already satisfied: python-dateutil>=2.7.3 in /usr/local/lib/python3.7/dist-packages (from pandas>=0.23->pandas_datareader) (2.8.2)\n",
            "Requirement already satisfied: pytz>=2017.3 in /usr/local/lib/python3.7/dist-packages (from pandas>=0.23->pandas_datareader) (2022.2.1)\n",
            "Requirement already satisfied: numpy>=1.17.3 in /usr/local/lib/python3.7/dist-packages (from pandas>=0.23->pandas_datareader) (1.21.6)\n",
            "Requirement already satisfied: six>=1.5 in /usr/local/lib/python3.7/dist-packages (from python-dateutil>=2.7.3->pandas>=0.23->pandas_datareader) (1.15.0)\n",
            "Requirement already satisfied: certifi>=2017.4.17 in /usr/local/lib/python3.7/dist-packages (from requests>=2.19.0->pandas_datareader) (2022.6.15)\n",
            "Requirement already satisfied: idna<4,>=2.5 in /usr/local/lib/python3.7/dist-packages (from requests>=2.19.0->pandas_datareader) (2.10)\n",
            "Requirement already satisfied: urllib3<1.27,>=1.21.1 in /usr/local/lib/python3.7/dist-packages (from requests>=2.19.0->pandas_datareader) (1.24.3)\n",
            "Requirement already satisfied: charset-normalizer<3,>=2 in /usr/local/lib/python3.7/dist-packages (from requests>=2.19.0->pandas_datareader) (2.1.0)\n",
            "Looking in indexes: https://pypi.org/simple, https://us-python.pkg.dev/colab-wheels/public/simple/\n",
            "Requirement already satisfied: yfinance in /usr/local/lib/python3.7/dist-packages (0.1.74)\n",
            "Requirement already satisfied: multitasking>=0.0.7 in /usr/local/lib/python3.7/dist-packages (from yfinance) (0.0.11)\n",
            "Requirement already satisfied: requests>=2.26 in /usr/local/lib/python3.7/dist-packages (from yfinance) (2.28.1)\n",
            "Requirement already satisfied: numpy>=1.15 in /usr/local/lib/python3.7/dist-packages (from yfinance) (1.21.6)\n",
            "Requirement already satisfied: pandas>=0.24.0 in /usr/local/lib/python3.7/dist-packages (from yfinance) (1.3.5)\n",
            "Requirement already satisfied: lxml>=4.5.1 in /usr/local/lib/python3.7/dist-packages (from yfinance) (4.9.1)\n",
            "Requirement already satisfied: python-dateutil>=2.7.3 in /usr/local/lib/python3.7/dist-packages (from pandas>=0.24.0->yfinance) (2.8.2)\n",
            "Requirement already satisfied: pytz>=2017.3 in /usr/local/lib/python3.7/dist-packages (from pandas>=0.24.0->yfinance) (2022.2.1)\n",
            "Requirement already satisfied: six>=1.5 in /usr/local/lib/python3.7/dist-packages (from python-dateutil>=2.7.3->pandas>=0.24.0->yfinance) (1.15.0)\n",
            "Requirement already satisfied: certifi>=2017.4.17 in /usr/local/lib/python3.7/dist-packages (from requests>=2.26->yfinance) (2022.6.15)\n",
            "Requirement already satisfied: idna<4,>=2.5 in /usr/local/lib/python3.7/dist-packages (from requests>=2.26->yfinance) (2.10)\n",
            "Requirement already satisfied: urllib3<1.27,>=1.21.1 in /usr/local/lib/python3.7/dist-packages (from requests>=2.26->yfinance) (1.24.3)\n",
            "Requirement already satisfied: charset-normalizer<3,>=2 in /usr/local/lib/python3.7/dist-packages (from requests>=2.26->yfinance) (2.1.0)\n",
            "Looking in indexes: https://pypi.org/simple, https://us-python.pkg.dev/colab-wheels/public/simple/\n",
            "Requirement already satisfied: matplotlib in /usr/local/lib/python3.7/dist-packages (3.2.2)\n",
            "Requirement already satisfied: python-dateutil>=2.1 in /usr/local/lib/python3.7/dist-packages (from matplotlib) (2.8.2)\n",
            "Requirement already satisfied: kiwisolver>=1.0.1 in /usr/local/lib/python3.7/dist-packages (from matplotlib) (1.4.4)\n",
            "Requirement already satisfied: numpy>=1.11 in /usr/local/lib/python3.7/dist-packages (from matplotlib) (1.21.6)\n",
            "Requirement already satisfied: pyparsing!=2.0.4,!=2.1.2,!=2.1.6,>=2.0.1 in /usr/local/lib/python3.7/dist-packages (from matplotlib) (3.0.9)\n",
            "Requirement already satisfied: cycler>=0.10 in /usr/local/lib/python3.7/dist-packages (from matplotlib) (0.11.0)\n",
            "Requirement already satisfied: typing-extensions in /usr/local/lib/python3.7/dist-packages (from kiwisolver>=1.0.1->matplotlib) (4.1.1)\n",
            "Requirement already satisfied: six>=1.5 in /usr/local/lib/python3.7/dist-packages (from python-dateutil>=2.1->matplotlib) (1.15.0)\n",
            "Looking in indexes: https://pypi.org/simple, https://us-python.pkg.dev/colab-wheels/public/simple/\n",
            "Collecting researchpy\n",
            "  Downloading researchpy-0.3.2-py3-none-any.whl (15 kB)\n",
            "Requirement already satisfied: pandas in /usr/local/lib/python3.7/dist-packages (from researchpy) (1.3.5)\n",
            "Requirement already satisfied: scipy in /usr/local/lib/python3.7/dist-packages (from researchpy) (1.7.3)\n",
            "Requirement already satisfied: numpy in /usr/local/lib/python3.7/dist-packages (from researchpy) (1.21.6)\n",
            "Requirement already satisfied: statsmodels in /usr/local/lib/python3.7/dist-packages (from researchpy) (0.12.2)\n",
            "Requirement already satisfied: patsy in /usr/local/lib/python3.7/dist-packages (from researchpy) (0.5.2)\n",
            "Requirement already satisfied: python-dateutil>=2.7.3 in /usr/local/lib/python3.7/dist-packages (from pandas->researchpy) (2.8.2)\n",
            "Requirement already satisfied: pytz>=2017.3 in /usr/local/lib/python3.7/dist-packages (from pandas->researchpy) (2022.2.1)\n",
            "Requirement already satisfied: six>=1.5 in /usr/local/lib/python3.7/dist-packages (from python-dateutil>=2.7.3->pandas->researchpy) (1.15.0)\n",
            "Installing collected packages: researchpy\n",
            "Successfully installed researchpy-0.3.2\n",
            "Looking in indexes: https://pypi.org/simple, https://us-python.pkg.dev/colab-wheels/public/simple/\n",
            "Requirement already satisfied: pandas in /usr/local/lib/python3.7/dist-packages (1.3.5)\n",
            "Requirement already satisfied: numpy>=1.17.3 in /usr/local/lib/python3.7/dist-packages (from pandas) (1.21.6)\n",
            "Requirement already satisfied: pytz>=2017.3 in /usr/local/lib/python3.7/dist-packages (from pandas) (2022.2.1)\n",
            "Requirement already satisfied: python-dateutil>=2.7.3 in /usr/local/lib/python3.7/dist-packages (from pandas) (2.8.2)\n",
            "Requirement already satisfied: six>=1.5 in /usr/local/lib/python3.7/dist-packages (from python-dateutil>=2.7.3->pandas) (1.15.0)\n",
            "Looking in indexes: https://pypi.org/simple, https://us-python.pkg.dev/colab-wheels/public/simple/\n",
            "Requirement already satisfied: pandas-datareader in /usr/local/lib/python3.7/dist-packages (0.10.0)\n",
            "Requirement already satisfied: pandas>=0.23 in /usr/local/lib/python3.7/dist-packages (from pandas-datareader) (1.3.5)\n",
            "Requirement already satisfied: lxml in /usr/local/lib/python3.7/dist-packages (from pandas-datareader) (4.9.1)\n",
            "Requirement already satisfied: requests>=2.19.0 in /usr/local/lib/python3.7/dist-packages (from pandas-datareader) (2.28.1)\n",
            "Requirement already satisfied: python-dateutil>=2.7.3 in /usr/local/lib/python3.7/dist-packages (from pandas>=0.23->pandas-datareader) (2.8.2)\n",
            "Requirement already satisfied: numpy>=1.17.3 in /usr/local/lib/python3.7/dist-packages (from pandas>=0.23->pandas-datareader) (1.21.6)\n",
            "Requirement already satisfied: pytz>=2017.3 in /usr/local/lib/python3.7/dist-packages (from pandas>=0.23->pandas-datareader) (2022.2.1)\n",
            "Requirement already satisfied: six>=1.5 in /usr/local/lib/python3.7/dist-packages (from python-dateutil>=2.7.3->pandas>=0.23->pandas-datareader) (1.15.0)\n",
            "Requirement already satisfied: urllib3<1.27,>=1.21.1 in /usr/local/lib/python3.7/dist-packages (from requests>=2.19.0->pandas-datareader) (1.24.3)\n",
            "Requirement already satisfied: charset-normalizer<3,>=2 in /usr/local/lib/python3.7/dist-packages (from requests>=2.19.0->pandas-datareader) (2.1.0)\n",
            "Requirement already satisfied: certifi>=2017.4.17 in /usr/local/lib/python3.7/dist-packages (from requests>=2.19.0->pandas-datareader) (2022.6.15)\n",
            "Requirement already satisfied: idna<4,>=2.5 in /usr/local/lib/python3.7/dist-packages (from requests>=2.19.0->pandas-datareader) (2.10)\n"
          ]
        }
      ]
    },
    {
      "cell_type": "markdown",
      "source": [
        "**3.1 CHALLENGE - IS AMD MEAN RETURN HIGHER THAN INTEL MEAN RETURN?**"
      ],
      "metadata": {
        "id": "nnhNVwG-Wlkr"
      }
    },
    {
      "cell_type": "markdown",
      "source": [
        "Get the price data of both AMD and Intel since 01/01/2017"
      ],
      "metadata": {
        "id": "kJ2le76jWyGd"
      }
    },
    {
      "cell_type": "code",
      "source": [
        "import pandas_datareader as pdr\n",
        "import pandas as pd\n",
        "import numpy as np\n",
        "\n",
        "# Getting price data and selecting adjusted price columns:\n",
        "sprices = pdr.get_data_yahoo(['AMD','INTC'], start=\"01/01/2017\", end=\"08/15/2022\", interval=\"m\")\n",
        "sprices=sprices['Adj Close']"
      ],
      "metadata": {
        "id": "84kQ2GJKPfTL"
      },
      "execution_count": 12,
      "outputs": []
    },
    {
      "cell_type": "code",
      "source": [
        "# Calculating returns:\n",
        "sr = np.log(sprices) - np.log(sprices.shift(1))\n",
        "# Deleting the first month with NAs:\n",
        "sr=sr.dropna()"
      ],
      "metadata": {
        "id": "vgLiUmjEPlzE"
      },
      "execution_count": 13,
      "outputs": []
    },
    {
      "cell_type": "markdown",
      "source": [
        "Calcultaing std error from the difference of the calculated means. Then, we calculate the t-statistic with the calculated std"
      ],
      "metadata": {
        "id": "rf_aX829XBz3"
      }
    },
    {
      "cell_type": "code",
      "source": [
        "# Stating the hypotheses: \n",
        "# H0: (mean(rAMD) - mean(rINTEL)) = 0\n",
        "# Ha: (mean(rAMD) - mean(rINTEL)) <> 0\n",
        "\n",
        "# Calculating the standard error of the difference of the means:\n",
        "N = sr['AMD'].count()\n",
        "amdvar = sr['AMD'].var()\n",
        "intelvar = sr['INTC'].var()\n",
        "sediff = np.sqrt((1/N) * (amdvar + intelvar ) )\n",
        "\n",
        "# Calculating the t-Statistic:\n",
        "t = (sr['AMD'].mean() - sr['INTC'].mean()) / sediff\n",
        "t"
      ],
      "metadata": {
        "id": "ZzQgV2viPoNW",
        "colab": {
          "base_uri": "https://localhost:8080/"
        },
        "outputId": "3144a19e-6d58-42e5-f5c2-b03efd2fd869"
      },
      "execution_count": 14,
      "outputs": [
        {
          "output_type": "execute_result",
          "data": {
            "text/plain": [
              "1.451439699658151"
            ]
          },
          "metadata": {},
          "execution_count": 14
        }
      ]
    },
    {
      "cell_type": "markdown",
      "source": [
        "P-value calculus"
      ],
      "metadata": {
        "id": "643rNJ0tXcPq"
      }
    },
    {
      "cell_type": "code",
      "source": [
        "from scipy import stats as st\n",
        "# The st.t.sf function calculates the 1-tailed pvalue, so we multiply it by 2 to get the 2-tailed pvalue\n",
        "# the degrees of freedom for 2-independent-means t-test is calculated with the following formula:\n",
        "df = ( ((N-1) / N**2) * (amdvar + intelvar)**2  / ( (amdvar/N)**2 + (intelvar/N)**2  ) )\n",
        "# Now we calculate the pvalue with the t and df:\n",
        "pvalue = 2 * st.t.sf(np.abs(t), df)\n",
        "pvalue"
      ],
      "metadata": {
        "id": "uB_waqUhPqcE",
        "colab": {
          "base_uri": "https://localhost:8080/"
        },
        "outputId": "56773b72-9411-408f-840d-9ce668d16a4e"
      },
      "execution_count": 15,
      "outputs": [
        {
          "output_type": "execute_result",
          "data": {
            "text/plain": [
              "0.1500177604299986"
            ]
          },
          "metadata": {},
          "execution_count": 15
        }
      ]
    },
    {
      "cell_type": "markdown",
      "source": [
        "T Test using function"
      ],
      "metadata": {
        "id": "0wpr6ABdX6jM"
      }
    },
    {
      "cell_type": "code",
      "source": [
        "# Using the ttest_ind function from stats:\n",
        "st.ttest_ind(sr['AMD'],sr['INTC'],equal_var=False)\n",
        "# We got the same result as above!\n",
        "# With this function we avoid calculating all steps of the hypothesis test!"
      ],
      "metadata": {
        "id": "NpkQWfjePuWP",
        "colab": {
          "base_uri": "https://localhost:8080/"
        },
        "outputId": "848ad776-51e8-4185-a90a-c6d81ee9cc09"
      },
      "execution_count": 16,
      "outputs": [
        {
          "output_type": "execute_result",
          "data": {
            "text/plain": [
              "Ttest_indResult(statistic=1.4514396996581511, pvalue=0.1500177604299985)"
            ]
          },
          "metadata": {},
          "execution_count": 16
        }
      ]
    },
    {
      "cell_type": "markdown",
      "source": [
        "T test using researchpy function"
      ],
      "metadata": {
        "id": "fKjmLgFWYK8x"
      }
    },
    {
      "cell_type": "code",
      "source": [
        "import researchpy as rp\n",
        "# Using the ttest function from researchpy:\n",
        "rp.ttest(sr['AMD'],sr['INTC'],equal_variances=False)\n",
        "# We got the same result as above!\n",
        "# With this function we avoid calculating all steps of the hypothesis test!"
      ],
      "metadata": {
        "id": "PXJOxoDxPx8S",
        "colab": {
          "base_uri": "https://localhost:8080/"
        },
        "outputId": "a7f3c5d8-cb13-4bf0-e34a-926e4d00bf52"
      },
      "execution_count": 22,
      "outputs": [
        {
          "output_type": "execute_result",
          "data": {
            "text/plain": [
              "(   Variable      N      Mean        SD        SE  95% Conf.  Interval\n",
              " 0       AMD   67.0  0.033208  0.162019  0.019794  -0.006312  0.072727\n",
              " 1      INTC   67.0  0.001539  0.075133  0.009179  -0.016787  0.019866\n",
              " 2  combined  134.0  0.017373  0.126808  0.010955  -0.004294  0.039041,\n",
              "                Welch's t-test  results\n",
              " 0  Difference (AMD - INTC) =    0.0317\n",
              " 1       Degrees of freedom =   93.9534\n",
              " 2                        t =    1.4514\n",
              " 3    Two side test p value =    0.1500\n",
              " 4   Difference < 0 p value =    0.9250\n",
              " 5   Difference > 0 p value =    0.0750\n",
              " 6                Cohen's d =    0.2508\n",
              " 7                Hedge's g =    0.2493\n",
              " 8            Glass's delta =    0.1955\n",
              " 9              Pearson's r =    0.1481)"
            ]
          },
          "metadata": {},
          "execution_count": 22
        }
      ]
    },
    {
      "cell_type": "markdown",
      "source": [
        "**4. MEASURES OF LINEAR RELATIONSHIP**"
      ],
      "metadata": {
        "id": "XfIEWoOXYpTQ"
      }
    },
    {
      "cell_type": "code",
      "source": [
        "import numpy as np\n",
        "import pandas as pd\n",
        "import pandas_datareader as pdr\n",
        "import yfinance as yf\n",
        "import matplotlib\n",
        "import matplotlib.pyplot as plt\n",
        "\n",
        "# We download price data for Microsoft and the S&P500 index:\n",
        "prices=yf.download(tickers=\"MSFT ^GSPC\", start=\"2019-01-01\",interval=\"1mo\")\n",
        "# We select Adjusted closing prices and drop any row with NA values:\n",
        "adjprices = prices['Adj Close'].dropna()"
      ],
      "metadata": {
        "colab": {
          "base_uri": "https://localhost:8080/"
        },
        "id": "btdtD7bzrBKW",
        "outputId": "b188fefd-4563-4b27-9160-42198700e94c"
      },
      "execution_count": 3,
      "outputs": [
        {
          "output_type": "stream",
          "name": "stdout",
          "text": [
            "[*********************100%***********************]  2 of 2 completed\n"
          ]
        }
      ]
    },
    {
      "cell_type": "code",
      "source": [
        "plt.clf()\n",
        "adjprices.plot(y=['MSFT','^GSPC'])\n",
        "plt.show()"
      ],
      "metadata": {
        "colab": {
          "base_uri": "https://localhost:8080/",
          "height": 295
        },
        "id": "mK8RJzdtrEao",
        "outputId": "8224e78b-b031-4352-f2dd-4af19c994a36"
      },
      "execution_count": 4,
      "outputs": [
        {
          "output_type": "display_data",
          "data": {
            "text/plain": [
              "<Figure size 432x288 with 0 Axes>"
            ]
          },
          "metadata": {}
        },
        {
          "output_type": "display_data",
          "data": {
            "text/plain": [
              "<Figure size 432x288 with 1 Axes>"
            ],
            "image/png": "[encoded data removed]"
          },
          "metadata": {
            "needs_background": "light"
          }
        }
      ]
    },
    {
      "cell_type": "code",
      "source": [
        "adjprices['iMSFT'] = adjprices['MSFT'] / adjprices['MSFT'][0]\n",
        "adjprices['iGSPC'] = adjprices['^GSPC'] / adjprices['^GSPC'][0]"
      ],
      "metadata": {
        "id": "oGcdVJDC0GzR"
      },
      "execution_count": 5,
      "outputs": []
    },
    {
      "cell_type": "code",
      "source": [
        "plt.clf()\n",
        "adjprices.plot(y=['iMSFT','iGSPC'])\n",
        "plt.show()"
      ],
      "metadata": {
        "colab": {
          "base_uri": "https://localhost:8080/",
          "height": 295
        },
        "id": "sjYGr-XT0J-U",
        "outputId": "0f3915fa-b4c6-457d-de9b-1b1a93625e59"
      },
      "execution_count": 6,
      "outputs": [
        {
          "output_type": "display_data",
          "data": {
            "text/plain": [
              "<Figure size 432x288 with 0 Axes>"
            ]
          },
          "metadata": {}
        },
        {
          "output_type": "display_data",
          "data": {
            "text/plain": [
              "<Figure size 432x288 with 1 Axes>"
            ],
            "image/png": "[encoded data removed]"
          },
          "metadata": {
            "needs_background": "light"
          }
        }
      ]
    },
    {
      "cell_type": "code",
      "source": [
        "r = np.log(adjprices) - np.log(adjprices.shift(1))\n",
        "# Dropping rows with NA values (the first month will have NAs)\n",
        "r = r.dropna()\n",
        "# Selecting only 2 columns (out of the 4 columns):\n",
        "r = r[['MSFT','^GSPC']]\n",
        "# Renameing the column names:\n",
        "r.columns = ['MSFT','GSPC']"
      ],
      "metadata": {
        "id": "sCdTLrRj0e9j"
      },
      "execution_count": 7,
      "outputs": []
    },
    {
      "cell_type": "code",
      "source": [
        "r.head()"
      ],
      "metadata": {
        "colab": {
          "base_uri": "https://localhost:8080/",
          "height": 238
        },
        "id": "g_hYwsBL0f7t",
        "outputId": "84005d68-6bcf-4abd-c45e-89a2f56ee3c0"
      },
      "execution_count": 8,
      "outputs": [
        {
          "output_type": "execute_result",
          "data": {
            "text/plain": [
              "                MSFT      GSPC\n",
              "Date                          \n",
              "2019-02-01  0.070250  0.029296\n",
              "2019-03-01  0.055671  0.017766\n",
              "2019-04-01  0.101963  0.038560\n",
              "2019-05-01 -0.054442 -0.068041\n",
              "2019-06-01  0.083538  0.066658"
            ],
            "text/html": [
              "\n",
              "  <div id=\"df-e0aba498-5fc1-48f9-9824-2b8ea524c0f9\">\n",
              "    <div class=\"colab-df-container\">\n",
              "      <div>\n",
              "<style scoped>\n",
              "    .dataframe tbody tr th:only-of-type {\n",
              "        vertical-align: middle;\n",
              "    }\n",
              "\n",
              "    .dataframe tbody tr th {\n",
              "        vertical-align: top;\n",
              "    }\n",
              "\n",
              "    .dataframe thead th {\n",
              "        text-align: right;\n",
              "    }\n",
              "</style>\n",
              "<table border=\"1\" class=\"dataframe\">\n",
              "  <thead>\n",
              "    <tr style=\"text-align: right;\">\n",
              "      <th></th>\n",
              "      <th>MSFT</th>\n",
              "      <th>GSPC</th>\n",
              "    </tr>\n",
              "    <tr>\n",
              "      <th>Date</th>\n",
              "      <th></th>\n",
              "      <th></th>\n",
              "    </tr>\n",
              "  </thead>\n",
              "  <tbody>\n",
              "    <tr>\n",
              "      <th>2019-02-01</th>\n",
              "      <td>0.070250</td>\n",
              "      <td>0.029296</td>\n",
              "    </tr>\n",
              "    <tr>\n",
              "      <th>2019-03-01</th>\n",
              "      <td>0.055671</td>\n",
              "      <td>0.017766</td>\n",
              "    </tr>\n",
              "    <tr>\n",
              "      <th>2019-04-01</th>\n",
              "      <td>0.101963</td>\n",
              "      <td>0.038560</td>\n",
              "    </tr>\n",
              "    <tr>\n",
              "      <th>2019-05-01</th>\n",
              "      <td>-0.054442</td>\n",
              "      <td>-0.068041</td>\n",
              "    </tr>\n",
              "    <tr>\n",
              "      <th>2019-06-01</th>\n",
              "      <td>0.083538</td>\n",
              "      <td>0.066658</td>\n",
              "    </tr>\n",
              "  </tbody>\n",
              "</table>\n",
              "</div>\n",
              "      <button class=\"colab-df-convert\" onclick=\"convertToInteractive('df-e0aba498-5fc1-48f9-9824-2b8ea524c0f9')\"\n",
              "              title=\"Convert this dataframe to an interactive table.\"\n",
              "              style=\"display:none;\">\n",
              "        \n",
              "  <svg xmlns=\"http://www.w3.org/2000/svg\" height=\"24px\"viewBox=\"0 0 24 24\"\n",
              "       width=\"24px\">\n",
              "    <path d=\"M0 0h24v24H0V0z\" fill=\"none\"/>\n",
              "    <path d=\"M18.56 5.44l.94 2.06.94-2.06 2.06-.94-2.06-.94-.94-2.06-.94 2.06-2.06.94zm-11 1L8.5 8.5l.94-2.06 2.06-.94-2.06-.94L8.5 2.5l-.94 2.06-2.06.94zm10 10l.94 2.06.94-2.06 2.06-.94-2.06-.94-.94-2.06-.94 2.06-2.06.94z\"/><path d=\"M17.41 7.96l-1.37-1.37c-.4-.4-.92-.59-1.43-.59-.52 0-1.04.2-1.43.59L10.3 9.45l-7.72 7.72c-.78.78-.78 2.05 0 2.83L4 21.41c.39.39.9.59 1.41.59.51 0 1.02-.2 1.41-.59l7.78-7.78 2.81-2.81c.8-.78.8-2.07 0-2.86zM5.41 20L4 18.59l7.72-7.72 1.47 1.35L5.41 20z\"/>\n",
              "  </svg>\n",
              "      </button>\n",
              "      \n",
              "  <style>\n",
              "    .colab-df-container {\n",
              "      display:flex;\n",
              "      flex-wrap:wrap;\n",
              "      gap: 12px;\n",
              "    }\n",
              "\n",
              "    .colab-df-convert {\n",
              "      background-color: #E8F0FE;\n",
              "      border: none;\n",
              "      border-radius: 50%;\n",
              "      cursor: pointer;\n",
              "      display: none;\n",
              "      fill: #1967D2;\n",
              "      height: 32px;\n",
              "      padding: 0 0 0 0;\n",
              "      width: 32px;\n",
              "    }\n",
              "\n",
              "    .colab-df-convert:hover {\n",
              "      background-color: #E2EBFA;\n",
              "      box-shadow: 0px 1px 2px rgba(60, 64, 67, 0.3), 0px 1px 3px 1px rgba(60, 64, 67, 0.15);\n",
              "      fill: #174EA6;\n",
              "    }\n",
              "\n",
              "    [theme=dark] .colab-df-convert {\n",
              "      background-color: #3B4455;\n",
              "      fill: #D2E3FC;\n",
              "    }\n",
              "\n",
              "    [theme=dark] .colab-df-convert:hover {\n",
              "      background-color: #434B5C;\n",
              "      box-shadow: 0px 1px 3px 1px rgba(0, 0, 0, 0.15);\n",
              "      filter: drop-shadow(0px 1px 2px rgba(0, 0, 0, 0.3));\n",
              "      fill: #FFFFFF;\n",
              "    }\n",
              "  </style>\n",
              "\n",
              "      <script>\n",
              "        const buttonEl =\n",
              "          document.querySelector('#df-e0aba498-5fc1-48f9-9824-2b8ea524c0f9 button.colab-df-convert');\n",
              "        buttonEl.style.display =\n",
              "          google.colab.kernel.accessAllowed ? 'block' : 'none';\n",
              "\n",
              "        async function convertToInteractive(key) {\n",
              "          const element = document.querySelector('#df-e0aba498-5fc1-48f9-9824-2b8ea524c0f9');\n",
              "          const dataTable =\n",
              "            await google.colab.kernel.invokeFunction('convertToInteractive',\n",
              "                                                     [key], {});\n",
              "          if (!dataTable) return;\n",
              "\n",
              "          const docLinkHtml = 'Like what you see? Visit the ' +\n",
              "            '<a target=\"_blank\" href=https://colab.research.google.com/notebooks/data_table.ipynb>data table notebook</a>'\n",
              "            + ' to learn more about interactive tables.';\n",
              "          element.innerHTML = '';\n",
              "          dataTable['output_type'] = 'display_data';\n",
              "          await google.colab.output.renderOutput(dataTable, element);\n",
              "          const docLink = document.createElement('div');\n",
              "          docLink.innerHTML = docLinkHtml;\n",
              "          element.appendChild(docLink);\n",
              "        }\n",
              "      </script>\n",
              "    </div>\n",
              "  </div>\n",
              "  "
            ]
          },
          "metadata": {},
          "execution_count": 8
        }
      ]
    },
    {
      "cell_type": "code",
      "source": [
        "plt.clf()\n",
        "r.plot.scatter(x='GSPC', y='MSFT',c='DarkBlue')\n",
        "plt.show()"
      ],
      "metadata": {
        "colab": {
          "base_uri": "https://localhost:8080/",
          "height": 297
        },
        "id": "ca9a6Z480j8l",
        "outputId": "9163aa78-8f15-459e-8e9c-d8ca057a47b7"
      },
      "execution_count": 9,
      "outputs": [
        {
          "output_type": "display_data",
          "data": {
            "text/plain": [
              "<Figure size 432x288 with 0 Axes>"
            ]
          },
          "metadata": {}
        },
        {
          "output_type": "display_data",
          "data": {
            "text/plain": [
              "<Figure size 432x288 with 1 Axes>"
            ],
            "image/png": "[encoded data removed]"
          },
          "metadata": {
            "needs_background": "light"
          }
        }
      ]
    },
    {
      "cell_type": "code",
      "source": [
        "plt.clf()\n",
        "adjprices.plot.scatter(x='^GSPC', y='MSFT',c='DarkBlue')\n",
        "plt.show()"
      ],
      "metadata": {
        "colab": {
          "base_uri": "https://localhost:8080/",
          "height": 297
        },
        "id": "2qJ0QDY80-a5",
        "outputId": "6b1e57c0-e556-43ba-de22-c18f82223e91"
      },
      "execution_count": 10,
      "outputs": [
        {
          "output_type": "display_data",
          "data": {
            "text/plain": [
              "<Figure size 432x288 with 0 Axes>"
            ]
          },
          "metadata": {}
        },
        {
          "output_type": "display_data",
          "data": {
            "text/plain": [
              "<Figure size 432x288 with 1 Axes>"
            ],
            "image/png": "[encoded data removed]"
          },
          "metadata": {
            "needs_background": "light"
          }
        }
      ]
    },
    {
      "cell_type": "code",
      "source": [
        "plt.clf()\n",
        "r.plot(y=['MSFT','GSPC'])\n",
        "plt.show()"
      ],
      "metadata": {
        "colab": {
          "base_uri": "https://localhost:8080/",
          "height": 295
        },
        "id": "DeJjsXyvSt-5",
        "outputId": "dd8ced0e-766c-4744-ad91-553ca8aff302"
      },
      "execution_count": 23,
      "outputs": [
        {
          "output_type": "display_data",
          "data": {
            "text/plain": [
              "<Figure size 432x288 with 0 Axes>"
            ]
          },
          "metadata": {}
        },
        {
          "output_type": "display_data",
          "data": {
            "text/plain": [
              "<Figure size 432x288 with 1 Axes>"
            ],
            "image/png": "[encoded data removed]"
          },
          "metadata": {
            "needs_background": "light"
          }
        }
      ]
    },
    {
      "cell_type": "markdown",
      "source": [
        "Calculating covariance and correlation"
      ],
      "metadata": {
        "id": "gpYmyimoYztf"
      }
    },
    {
      "cell_type": "code",
      "source": [
        "msft_mean = r['MSFT'].mean()\n",
        "gspc_mean = r['GSPC'].mean()\n",
        "N = r['GSPC'].count()\n",
        "sum_of_prod = ((r['MSFT'] - msft_mean) * (r['GSPC'] - gspc_mean) ).sum()  \n",
        "cov = sum_of_prod / (N-1)\n",
        "cov"
      ],
      "metadata": {
        "colab": {
          "base_uri": "https://localhost:8080/"
        },
        "id": "lGLMy6RqS2ug",
        "outputId": "d65f123f-bcec-4dfc-aa38-b999e6829f6a"
      },
      "execution_count": 24,
      "outputs": [
        {
          "output_type": "execute_result",
          "data": {
            "text/plain": [
              "0.0024547020755224486"
            ]
          },
          "metadata": {},
          "execution_count": 24
        }
      ]
    },
    {
      "cell_type": "markdown",
      "source": [
        "Covariance using numpy function"
      ],
      "metadata": {
        "id": "4d8SP3AaY5jo"
      }
    },
    {
      "cell_type": "code",
      "source": [
        "covm = np.cov(r['MSFT'],r['GSPC'])\n",
        "covm"
      ],
      "metadata": {
        "colab": {
          "base_uri": "https://localhost:8080/"
        },
        "id": "RfqDdUMNS66n",
        "outputId": "2642765e-71e0-41fa-9179-ad0bf74335b5"
      },
      "execution_count": 25,
      "outputs": [
        {
          "output_type": "execute_result",
          "data": {
            "text/plain": [
              "array([[0.00347497, 0.0024547 ],\n",
              "       [0.0024547 , 0.00277328]])"
            ]
          },
          "metadata": {},
          "execution_count": 25
        }
      ]
    },
    {
      "cell_type": "code",
      "source": [
        "cov = covm[0,1]\n",
        "cov"
      ],
      "metadata": {
        "colab": {
          "base_uri": "https://localhost:8080/"
        },
        "id": "fLAgbpgIS9DZ",
        "outputId": "522ee5dc-3e04-4409-c35a-71cea8ae31b6"
      },
      "execution_count": 26,
      "outputs": [
        {
          "output_type": "execute_result",
          "data": {
            "text/plain": [
              "0.002454702075522449"
            ]
          },
          "metadata": {},
          "execution_count": 26
        }
      ]
    },
    {
      "cell_type": "markdown",
      "source": [
        "Correlation using numpy function"
      ],
      "metadata": {
        "id": "0GaTjr88ZDSO"
      }
    },
    {
      "cell_type": "code",
      "source": [
        "corr = np.corrcoef(r['MSFT'],r['GSPC'])\n",
        "corr"
      ],
      "metadata": {
        "id": "pBOdcg7Z1HOs",
        "outputId": "47b5fee5-e512-4c81-e31b-9ba6ee0ad227",
        "colab": {
          "base_uri": "https://localhost:8080/"
        }
      },
      "execution_count": 27,
      "outputs": [
        {
          "output_type": "execute_result",
          "data": {
            "text/plain": [
              "array([[1.        , 0.79072691],\n",
              "       [0.79072691, 1.        ]])"
            ]
          },
          "metadata": {},
          "execution_count": 27
        }
      ]
    },
    {
      "cell_type": "code",
      "source": [
        "corr2 = cov / (r['MSFT'].std() * r['GSPC'].std())\n",
        "corr2"
      ],
      "metadata": {
        "colab": {
          "base_uri": "https://localhost:8080/"
        },
        "id": "5KNhqnuNTG3p",
        "outputId": "dee1c57c-4c68-4172-d08b-f9b51a535b00"
      },
      "execution_count": 28,
      "outputs": [
        {
          "output_type": "execute_result",
          "data": {
            "text/plain": [
              "0.7907269147987"
            ]
          },
          "metadata": {},
          "execution_count": 28
        }
      ]
    },
    {
      "cell_type": "markdown",
      "source": [
        "Correlation and 2-tailes pvalue"
      ],
      "metadata": {
        "id": "lSbO2jjIZJC2"
      }
    },
    {
      "cell_type": "code",
      "source": [
        "from scipy.stats import pearsonr\n",
        "corr2 = pearsonr(r['MSFT'],r['GSPC'])\n",
        "corr2"
      ],
      "metadata": {
        "colab": {
          "base_uri": "https://localhost:8080/"
        },
        "id": "ehz_JdzKTJvs",
        "outputId": "5040b701-f6ce-4c7a-8d44-0104a5a8bd85"
      },
      "execution_count": 29,
      "outputs": [
        {
          "output_type": "execute_result",
          "data": {
            "text/plain": [
              "(0.7907269147986998, 1.7083066981982365e-10)"
            ]
          },
          "metadata": {},
          "execution_count": 29
        }
      ]
    }
  ]
}