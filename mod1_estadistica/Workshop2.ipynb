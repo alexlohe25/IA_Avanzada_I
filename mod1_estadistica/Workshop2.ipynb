{
  "nbformat": 4,
  "nbformat_minor": 0,
  "metadata": {
    "colab": {
      "name": "Workshop2.ipynb",
      "provenance": []
    },
    "kernelspec": {
      "name": "python3",
      "display_name": "Python 3"
    },
    "language_info": {
      "name": "python"
    }
  },
  "cells": [
    {
      "cell_type": "code",
      "execution_count": 1,
      "metadata": {
        "colab": {
          "base_uri": "https://localhost:8080/"
        },
        "id": "qLCdFZFagFQe",
        "outputId": "c034b47c-4d9b-4943-dd34-d3d8d04a3b23"
      },
      "outputs": [
        {
          "output_type": "stream",
          "name": "stdout",
          "text": [
            "Looking in indexes: https://pypi.org/simple, https://us-python.pkg.dev/colab-wheels/public/simple/\n",
            "Requirement already satisfied: symbulate in /usr/local/lib/python3.7/dist-packages (0.5.7)\n",
            "Requirement already satisfied: matplotlib in /usr/local/lib/python3.7/dist-packages (from symbulate) (3.2.2)\n",
            "Requirement already satisfied: scipy in /usr/local/lib/python3.7/dist-packages (from symbulate) (1.7.3)\n",
            "Requirement already satisfied: numpy in /usr/local/lib/python3.7/dist-packages (from symbulate) (1.21.6)\n",
            "Requirement already satisfied: cycler>=0.10 in /usr/local/lib/python3.7/dist-packages (from matplotlib->symbulate) (0.11.0)\n",
            "Requirement already satisfied: python-dateutil>=2.1 in /usr/local/lib/python3.7/dist-packages (from matplotlib->symbulate) (2.8.2)\n",
            "Requirement already satisfied: pyparsing!=2.0.4,!=2.1.2,!=2.1.6,>=2.0.1 in /usr/local/lib/python3.7/dist-packages (from matplotlib->symbulate) (3.0.9)\n",
            "Requirement already satisfied: kiwisolver>=1.0.1 in /usr/local/lib/python3.7/dist-packages (from matplotlib->symbulate) (1.4.4)\n",
            "Requirement already satisfied: typing-extensions in /usr/local/lib/python3.7/dist-packages (from kiwisolver>=1.0.1->matplotlib->symbulate) (4.1.1)\n",
            "Requirement already satisfied: six>=1.5 in /usr/local/lib/python3.7/dist-packages (from python-dateutil>=2.1->matplotlib->symbulate) (1.15.0)\n",
            "Looking in indexes: https://pypi.org/simple, https://us-python.pkg.dev/colab-wheels/public/simple/\n",
            "Requirement already satisfied: pandas in /usr/local/lib/python3.7/dist-packages (1.3.5)\n",
            "Requirement already satisfied: pytz>=2017.3 in /usr/local/lib/python3.7/dist-packages (from pandas) (2022.1)\n",
            "Requirement already satisfied: python-dateutil>=2.7.3 in /usr/local/lib/python3.7/dist-packages (from pandas) (2.8.2)\n",
            "Requirement already satisfied: numpy>=1.17.3 in /usr/local/lib/python3.7/dist-packages (from pandas) (1.21.6)\n",
            "Requirement already satisfied: six>=1.5 in /usr/local/lib/python3.7/dist-packages (from python-dateutil>=2.7.3->pandas) (1.15.0)\n",
            "Looking in indexes: https://pypi.org/simple, https://us-python.pkg.dev/colab-wheels/public/simple/\n",
            "Requirement already satisfied: pandas-datareader in /usr/local/lib/python3.7/dist-packages (0.10.0)\n",
            "Requirement already satisfied: lxml in /usr/local/lib/python3.7/dist-packages (from pandas-datareader) (4.9.1)\n",
            "Requirement already satisfied: requests>=2.19.0 in /usr/local/lib/python3.7/dist-packages (from pandas-datareader) (2.23.0)\n",
            "Requirement already satisfied: pandas>=0.23 in /usr/local/lib/python3.7/dist-packages (from pandas-datareader) (1.3.5)\n",
            "Requirement already satisfied: numpy>=1.17.3 in /usr/local/lib/python3.7/dist-packages (from pandas>=0.23->pandas-datareader) (1.21.6)\n",
            "Requirement already satisfied: pytz>=2017.3 in /usr/local/lib/python3.7/dist-packages (from pandas>=0.23->pandas-datareader) (2022.1)\n",
            "Requirement already satisfied: python-dateutil>=2.7.3 in /usr/local/lib/python3.7/dist-packages (from pandas>=0.23->pandas-datareader) (2.8.2)\n",
            "Requirement already satisfied: six>=1.5 in /usr/local/lib/python3.7/dist-packages (from python-dateutil>=2.7.3->pandas>=0.23->pandas-datareader) (1.15.0)\n",
            "Requirement already satisfied: chardet<4,>=3.0.2 in /usr/local/lib/python3.7/dist-packages (from requests>=2.19.0->pandas-datareader) (3.0.4)\n",
            "Requirement already satisfied: urllib3!=1.25.0,!=1.25.1,<1.26,>=1.21.1 in /usr/local/lib/python3.7/dist-packages (from requests>=2.19.0->pandas-datareader) (1.24.3)\n",
            "Requirement already satisfied: certifi>=2017.4.17 in /usr/local/lib/python3.7/dist-packages (from requests>=2.19.0->pandas-datareader) (2022.6.15)\n",
            "Requirement already satisfied: idna<3,>=2.5 in /usr/local/lib/python3.7/dist-packages (from requests>=2.19.0->pandas-datareader) (2.10)\n"
          ]
        }
      ],
      "source": [
        "!pip install symbulate\n",
        "!pip install --upgrade pandas\n",
        "!pip install --upgrade pandas-datareader"
      ]
    },
    {
      "cell_type": "code",
      "source": [
        "from symbulate import *\n",
        "#'exec(%matplotlib inline)' \n",
        "import matplotlib\n",
        "\n",
        "import matplotlib.pyplot as plt"
      ],
      "metadata": {
        "id": "8G0FK9P8gKOf"
      },
      "execution_count": 2,
      "outputs": []
    },
    {
      "cell_type": "markdown",
      "source": [
        "Uniform probability distribution"
      ],
      "metadata": {
        "id": "aR0td1R9lqzU"
      }
    },
    {
      "cell_type": "code",
      "source": [
        "# clear the plot space:\n",
        "plt.clf()\n",
        "# Define the probability type of function as uniform (probability space)\n",
        "P = Uniform(0,40)\n",
        "# Define X as a random variable of the type P (uniform)\n",
        "X =RV(P)\n",
        "# Simulate the values of X and save the in the x array: \n",
        "x=X.sim(10000)\n",
        "x.plot()\n",
        "plt.show()"
      ],
      "metadata": {
        "colab": {
          "base_uri": "https://localhost:8080/",
          "height": 265
        },
        "id": "Qh0oNafdg0MT",
        "outputId": "0466edd0-8cc0-4194-a5b9-632b471ef843"
      },
      "execution_count": 3,
      "outputs": [
        {
          "output_type": "display_data",
          "data": {
            "text/plain": [
              "<Figure size 432x288 with 1 Axes>"
            ],
            "image/png": "[encoded data removed]"
          },
          "metadata": {
            "needs_background": "light"
          }
        }
      ]
    },
    {
      "cell_type": "markdown",
      "source": [
        "2.2.2 CHALLENGE\n",
        "A. CALCULATE THE MEAN AND STANDARD DEVIATION OF THIS SIMULATED UNIFORM X VARIABLE. HOW CLOSE WERE THESE MEAN AND STANDARD DEVIATION FROM THE THEORETICAL MEAN AND STANDARD DEVIATION? **BOTH MEAN AND STANDARD DEVIATION ARE VERY CLOSE TO THE THEORETICAL VALUES, THEIR VALUES MAY VARIATE DUE TO THE RANDOMLY GIVEN VALUES INTO THE ARRAY**"
      ],
      "metadata": {
        "id": "Vc_a8WQvmHbj"
      }
    },
    {
      "cell_type": "code",
      "source": [
        "print(x.mean())\n",
        "print(x.std())"
      ],
      "metadata": {
        "colab": {
          "base_uri": "https://localhost:8080/"
        },
        "id": "PhbhWq_Khrta",
        "outputId": "f548bea9-3ae0-46ad-8106-e1b5b5b7886a"
      },
      "execution_count": 4,
      "outputs": [
        {
          "output_type": "stream",
          "name": "stdout",
          "text": [
            "19.99566516440122\n",
            "11.523877847524602\n"
          ]
        }
      ]
    },
    {
      "cell_type": "markdown",
      "source": [
        "B.INTERPRET THE ABOVE HISTOGRAM. WHAT DO YOU SEE? EXPLAIN WITH YOUR WORD? **THERE IS SOME UNIFORM TENDENCY FOR EACH SIMULATION IN THE ARRAY, WHICH SHOWS THAT EVERY DENSITY HAS A VALUE HIGHER THAN 0.020 AT LEAST**"
      ],
      "metadata": {
        "id": "ncFaDGHCgz4X"
      }
    },
    {
      "cell_type": "markdown",
      "source": [
        "Generation of 10000 groups of 25 random variables in 10000 rows x 25 columns matrix, and then get the mean of each row which are 10000 sample means"
      ],
      "metadata": {
        "id": "uB8tnx91l5_d"
      }
    },
    {
      "cell_type": "code",
      "source": [
        "# Define the probability space as a vector of 25 uniform random numbers:\n",
        "P = Uniform(0,40) ** 25\n",
        "# Define XVECTOR as a vector of random variables with 25 random values \n",
        "XVECTOR =RV(P)\n",
        "# Simulate 10,000 vectors to get a matrix  \n",
        "xmatrix=XVECTOR.sim(10000)\n",
        "xmatrix"
      ],
      "metadata": {
        "colab": {
          "base_uri": "https://localhost:8080/",
          "height": 275
        },
        "id": "O6ym11pghlyO",
        "outputId": "f3ee8139-3a60-462e-9816-f340a4527364"
      },
      "execution_count": 5,
      "outputs": [
        {
          "output_type": "execute_result",
          "data": {
            "text/plain": [
              "Index Result\n",
              "0     (4.725502814140805, 28.761463122903898, 32.166580810627856, 39.70414891239711, 17.121302814258964, ..., 0.44814474393200854)\n",
              "1     (27.409111596074208, 15.267231773208469, 38.15513701081748, 31.13148664514881, 6.6534955622846725, ..., 7.683528446598564)\n",
              "2     (6.0694899328988905, 31.164987027115583, 4.713406392709145, 1.07485143607422, 13.93839581064431, ..., 34.07998472261501)\n",
              "3     (32.53305165699505, 27.08686065937322, 6.646334204108411, 36.0096559761831, 11.78198896184259, ..., 37.312946784212535)\n",
              "4     (35.07238591227411, 18.720938619478517, 32.06840468994169, 27.881620507261665, 19.60646384933032, ..., 15.563736830765937)\n",
              "5     (30.083366774738263, 36.862494459498436, 35.488057551484296, 32.113910441627795, 36.022932023251535, ..., 24.53753676718726)\n",
              "6     (39.374897127125394, 14.946769782971657, 31.523656775598532, 30.61741310022436, 31.951390820831755, ..., 30.257017315407516)\n",
              "7     (18.438936650704925, 4.594405603320251, 23.131207011568094, 32.10753969635073, 6.697747237513472, ..., 21.678896637100937)\n",
              "8     (13.436777623728586, 0.9840974107266476, 27.305169985209435, 7.751053580143372, 32.86848456387615, ..., 6.952002596223412)\n",
              "....  ...........................................................................................................................\n",
              "9999  (25.263695342657762, 18.263688245644186, 2.759043925525697, 25.765061739400913, 22.389624429999028, ..., 5.586599812454089)"
            ],
            "text/html": [
              "\n",
              "    <table>\n",
              "      <thead>\n",
              "        <th width=\"10%\">Index</th>\n",
              "        <th width=\"90%\">Result</th>\n",
              "      </thead>\n",
              "      <tbody>\n",
              "        \n",
              "        <tr>\n",
              "          <td>0</td><td>(4.725502814140805, 28.761463122903898, 32.166580810627856, 39.70414891239711, 17.121302814258964, ....</td>\n",
              "        </tr>\n",
              "        \n",
              "        <tr>\n",
              "          <td>1</td><td>(27.409111596074208, 15.267231773208469, 38.15513701081748, 31.13148664514881, 6.6534955622846725, ....</td>\n",
              "        </tr>\n",
              "        \n",
              "        <tr>\n",
              "          <td>2</td><td>(6.0694899328988905, 31.164987027115583, 4.713406392709145, 1.07485143607422, 13.93839581064431, ......</td>\n",
              "        </tr>\n",
              "        \n",
              "        <tr>\n",
              "          <td>3</td><td>(32.53305165699505, 27.08686065937322, 6.646334204108411, 36.0096559761831, 11.78198896184259, ..., ...</td>\n",
              "        </tr>\n",
              "        \n",
              "        <tr>\n",
              "          <td>4</td><td>(35.07238591227411, 18.720938619478517, 32.06840468994169, 27.881620507261665, 19.60646384933032, .....</td>\n",
              "        </tr>\n",
              "        \n",
              "        <tr>\n",
              "          <td>5</td><td>(30.083366774738263, 36.862494459498436, 35.488057551484296, 32.113910441627795, 36.022932023251535,...</td>\n",
              "        </tr>\n",
              "        \n",
              "        <tr>\n",
              "          <td>6</td><td>(39.374897127125394, 14.946769782971657, 31.523656775598532, 30.61741310022436, 31.951390820831755, ...</td>\n",
              "        </tr>\n",
              "        \n",
              "        <tr>\n",
              "          <td>7</td><td>(18.438936650704925, 4.594405603320251, 23.131207011568094, 32.10753969635073, 6.697747237513472, .....</td>\n",
              "        </tr>\n",
              "        \n",
              "        <tr>\n",
              "          <td>8</td><td>(13.436777623728586, 0.9840974107266476, 27.305169985209435, 7.751053580143372, 32.86848456387615, ....</td>\n",
              "        </tr>\n",
              "        <tr><td>...</td><td>...</td></tr>\n",
              "        <tr>\n",
              "          <td>9999</td><td>(25.263695342657762, 18.263688245644186, 2.759043925525697, 25.765061739400913, 22.389624429999028, ...</td>\n",
              "        </tr>\n",
              "        \n",
              "      </tbody>\n",
              "    </table>\n",
              "        "
            ]
          },
          "metadata": {},
          "execution_count": 5
        }
      ]
    },
    {
      "cell_type": "code",
      "source": [
        "xmean = RV(P,mean).sim(10000)\n",
        "xmean"
      ],
      "metadata": {
        "colab": {
          "base_uri": "https://localhost:8080/",
          "height": 275
        },
        "id": "0iqtKY9SjaIV",
        "outputId": "5bf0bb3e-a0ea-4881-a50c-0ecafea26853"
      },
      "execution_count": 6,
      "outputs": [
        {
          "output_type": "execute_result",
          "data": {
            "text/plain": [
              "Index Result\n",
              "0     20.417436497121056\n",
              "1     19.458439991636755\n",
              "2     16.730527496963113\n",
              "3     23.73658242647277\n",
              "4     20.19726885651731\n",
              "5     17.939280235685278\n",
              "6     17.89408642291731\n",
              "7     23.226321295489548\n",
              "8     18.043222569974446\n",
              "....  ...............\n",
              "9999  17.313608699926"
            ],
            "text/html": [
              "\n",
              "    <table>\n",
              "      <thead>\n",
              "        <th width=\"10%\">Index</th>\n",
              "        <th width=\"90%\">Result</th>\n",
              "      </thead>\n",
              "      <tbody>\n",
              "        \n",
              "        <tr>\n",
              "          <td>0</td><td>20.417436497121056</td>\n",
              "        </tr>\n",
              "        \n",
              "        <tr>\n",
              "          <td>1</td><td>19.458439991636755</td>\n",
              "        </tr>\n",
              "        \n",
              "        <tr>\n",
              "          <td>2</td><td>16.730527496963113</td>\n",
              "        </tr>\n",
              "        \n",
              "        <tr>\n",
              "          <td>3</td><td>23.73658242647277</td>\n",
              "        </tr>\n",
              "        \n",
              "        <tr>\n",
              "          <td>4</td><td>20.19726885651731</td>\n",
              "        </tr>\n",
              "        \n",
              "        <tr>\n",
              "          <td>5</td><td>17.939280235685278</td>\n",
              "        </tr>\n",
              "        \n",
              "        <tr>\n",
              "          <td>6</td><td>17.89408642291731</td>\n",
              "        </tr>\n",
              "        \n",
              "        <tr>\n",
              "          <td>7</td><td>23.226321295489548</td>\n",
              "        </tr>\n",
              "        \n",
              "        <tr>\n",
              "          <td>8</td><td>18.043222569974446</td>\n",
              "        </tr>\n",
              "        <tr><td>...</td><td>...</td></tr>\n",
              "        <tr>\n",
              "          <td>9999</td><td>17.313608699926</td>\n",
              "        </tr>\n",
              "        \n",
              "      </tbody>\n",
              "    </table>\n",
              "        "
            ]
          },
          "metadata": {},
          "execution_count": 6
        }
      ]
    },
    {
      "cell_type": "markdown",
      "source": [
        "Histogram of those sample means"
      ],
      "metadata": {
        "id": "93QhKx2WnakA"
      }
    },
    {
      "cell_type": "code",
      "source": [
        "plt.clf()\n",
        "xmean.plot()\n",
        "plt.show()"
      ],
      "metadata": {
        "colab": {
          "base_uri": "https://localhost:8080/",
          "height": 265
        },
        "id": "oRetGDnxlMzc",
        "outputId": "114cc62e-9120-457c-8f78-8502653adb96"
      },
      "execution_count": 7,
      "outputs": [
        {
          "output_type": "display_data",
          "data": {
            "text/plain": [
              "<Figure size 432x288 with 1 Axes>"
            ],
            "image/png": "[encoded data removed]"
          },
          "metadata": {
            "needs_background": "light"
          }
        }
      ]
    },
    {
      "cell_type": "markdown",
      "source": [
        "2.2.3 CHALLENGE\n",
        "A. CALCULATE THE MEAN AND STANDARD DEVIATION OF THE xmean VARIABLE. HOW SIMILAR OR DIFFERENT ARE THESE VALUES FROM THE MEAN AND STANDARD DEVIATION OF x? **THE MEAN OF x AND xmean ARE STILL VERY SIMILAR SINCE BOTH HAVE A VALUE NEAR TO THE THEORETICAL ONE (20), BUT IN THE STD THERE IS A RELEVANT DIFFERENCE IN THE xmean STD, WHICH IS MUCH LOWER THAN x STD**"
      ],
      "metadata": {
        "id": "LkIBXKy9nsN1"
      }
    },
    {
      "cell_type": "code",
      "source": [
        "print(xmean.mean())\n",
        "print(xmean.std())"
      ],
      "metadata": {
        "colab": {
          "base_uri": "https://localhost:8080/"
        },
        "id": "cZRgYo93n53E",
        "outputId": "e2a6c159-6a40-4362-ae78-6d3a4513c699"
      },
      "execution_count": 8,
      "outputs": [
        {
          "output_type": "stream",
          "name": "stdout",
          "text": [
            "19.998118450643965\n",
            "2.3029629122843365\n"
          ]
        }
      ]
    },
    {
      "cell_type": "markdown",
      "source": [
        "B. WHAT DO YOU SEE IN THE ABOVE HISTOGRAM? DOES THE HISTOGRAM OF SAMPLE MEANS OF UNIFORM RANDOM VARIABLE LOOK LIKE A UNIFORM DISTRIBUTED VALUES? DO YOU SEE A LOGIC? BRIEFLY EXPLAIN WHAT YOU THINK. **I SEE IT AS SOME \"GAUS BELL\" HISTOGRAM, WHERE THE CENTER OF THIS FORM IS NEAR 20. I FIND IT LOGIC SINCE WE HAVE 20 AS THE THEORETICAL VALUE OF X**"
      ],
      "metadata": {
        "id": "8OAwxrsLoBug"
      }
    },
    {
      "cell_type": "markdown",
      "source": [
        "Plot of both x and xmean variables histogram"
      ],
      "metadata": {
        "id": "WW45C0zBom0p"
      }
    },
    {
      "cell_type": "code",
      "source": [
        "plt.clf()\n",
        "xmean.plot()\n",
        "x.plot()\n",
        "plt.show()"
      ],
      "metadata": {
        "colab": {
          "base_uri": "https://localhost:8080/",
          "height": 265
        },
        "id": "U9TSPW1RoTWY",
        "outputId": "3af8aa0d-553e-43e0-f8eb-fbf1d4b07636"
      },
      "execution_count": 9,
      "outputs": [
        {
          "output_type": "display_data",
          "data": {
            "text/plain": [
              "<Figure size 432x288 with 1 Axes>"
            ],
            "image/png": "[encoded data removed]"
          },
          "metadata": {
            "needs_background": "light"
          }
        }
      ]
    },
    {
      "cell_type": "markdown",
      "source": [
        "C. WHAT DO YOU SEE? HOW THE HISTOGRAM OF X DIFFERS FROM THE HISTOGRAM SAMPLES OF X? **BOTH HISTOGRAMS DIFFER FROM THE NUMBER OF THE RANDOM GIVEN VALUES AND HOW THEY ARE REPRESENTED. BUT THERE IS ALSO A RELATION BETWEEN THE DENSITY SHOWN IN THE DENSITY OF x  HISTOGRAM AND THE CENTER OF xmean  HISTOGRAM**"
      ],
      "metadata": {
        "id": "IxCEhXdkouUh"
      }
    },
    {
      "cell_type": "markdown",
      "source": [
        "2.2.4 Simulating numbers with the NORMAL probability distribution"
      ],
      "metadata": {
        "id": "BC2gGLLmorlQ"
      }
    },
    {
      "cell_type": "code",
      "source": [
        "# clear the plot space:\n",
        "plt.clf()\n",
        "# Define the probability type of function as uniform (probability space)\n",
        "P = Normal(mean=20, sd=10)\n",
        "# Define Y as a random variable of the type P (normal)\n",
        "Y =RV(P)\n",
        "# Simulate 10,000 values of Y and save the in the x array: \n",
        "y=Y.sim(10000)\n",
        "y.plot()\n",
        "plt.show()"
      ],
      "metadata": {
        "colab": {
          "base_uri": "https://localhost:8080/",
          "height": 265
        },
        "id": "EDVvYhPMouVf",
        "outputId": "e0a9584d-dc68-4a84-f030-0928686cba7d"
      },
      "execution_count": 10,
      "outputs": [
        {
          "output_type": "display_data",
          "data": {
            "text/plain": [
              "<Figure size 432x288 with 1 Axes>"
            ],
            "image/png": "[encoded data removed]"
          },
          "metadata": {
            "needs_background": "light"
          }
        }
      ]
    },
    {
      "cell_type": "markdown",
      "source": [
        "2.2.5 CHALLENGE\n",
        "A. CALCULATE THE MEAN AND STANDARD DEVIATION OF THIS RANDOM VARIABLE. HOW SIMILAR OR DIFFERENT ARE THESE VALUES FROM THE MEAN AND STANDARD DVIATION OF THE THEORETICAL MEAN(20) AND THE THEORETHICAL STANDARD DEVIATION(10)? **BOTH VALUES ARE VERY CLOSE TO THERI THEORETICAL VALUES, THE DIFFERENCE IS LESS THAN 0.1 FOR THE MEAN AND 0.04 FOR THE STD. THOSE DIFFERENCES ARE FROM THE RANDOM VALUES**"
      ],
      "metadata": {
        "id": "DneH_lHhqUrk"
      }
    },
    {
      "cell_type": "code",
      "source": [
        "print(y.mean())\n",
        "print(y.std())"
      ],
      "metadata": {
        "colab": {
          "base_uri": "https://localhost:8080/"
        },
        "id": "Apdu32fhqn3M",
        "outputId": "0420d6f6-3264-4f88-8621-09d7391a96bf"
      },
      "execution_count": 11,
      "outputs": [
        {
          "output_type": "stream",
          "name": "stdout",
          "text": [
            "19.9634302830751\n",
            "10.065911243702866\n"
          ]
        }
      ]
    },
    {
      "cell_type": "markdown",
      "source": [
        "B. WHAT DO YOU SEE? INTERPRET THE HISTOGRAM WITH YOUR WORDS **A SIMILAR FORM FROM THE xmean HISTOGRAM, A GAUSS BELL WHICH HAS ITS CENTRER NEAR THE THEORETICAL VALUE(20)**"
      ],
      "metadata": {
        "id": "MHxRYI78quVG"
      }
    },
    {
      "cell_type": "code",
      "source": [
        "P = Normal(mean=20, sd=10) ** 25\n",
        "# Define RANDOMVECTOR as a vector of 25 random variables in the Probability space P \n",
        "RANDOMVECTOR = RV(P)\n",
        "# Simulate 10,000 random vectors with this distribution and save the in ymatrix: \n",
        "ymatrix=RANDOMVECTOR.sim(10000)"
      ],
      "metadata": {
        "id": "XVzvdGApr1h2"
      },
      "execution_count": 12,
      "outputs": []
    },
    {
      "cell_type": "code",
      "source": [
        "ymatrix"
      ],
      "metadata": {
        "colab": {
          "base_uri": "https://localhost:8080/",
          "height": 275
        },
        "id": "hX-KOYbwr4gX",
        "outputId": "8b4c2f69-e416-47b9-f9b3-0e8b061b3c0f"
      },
      "execution_count": 13,
      "outputs": [
        {
          "output_type": "execute_result",
          "data": {
            "text/plain": [
              "Index Result\n",
              "0     (15.654275314498983, 22.042176866051243, 11.762838814876414, 32.7884939449175, 33.22092587727262, ..., 25.007032589878314)\n",
              "1     (25.278177243756186, 23.637340710226077, 21.203944641691425, 37.69720646579749, 11.14205026234648, ..., 20.49492687579362)\n",
              "2     (19.10018496768191, 27.827959330283658, 26.99457256670934, 20.094030697488513, 22.459868341287528, ..., 18.77523355801993)\n",
              "3     (28.842931792491072, 20.43458684203622, -6.699300208056826, 15.830126835919554, 16.18940226030703, ..., 28.56751499003478)\n",
              "4     (16.893438585567004, 19.438674676867652, 6.077323800349252, 32.850338936682924, 31.43801415274444, ..., 21.16214274938852)\n",
              "5     (3.9807919106047613, 17.143097206156067, 14.901191601571888, 3.628887312890818, 17.78930585597831, ..., 4.074621672899854)\n",
              "6     (8.42723855131483, 24.197792146683465, 27.941942774326247, 9.743659103928017, 8.371180144026201, ..., 18.184973042480998)\n",
              "7     (19.40289701103349, 30.559047158230488, 6.681538500161571, 17.83271221883119, 19.262198716114177, ..., 9.122189362507939)\n",
              "8     (27.468869909946285, 13.865481279523348, 9.831030697563026, 27.26732600407599, 18.801389222175022, ..., 13.27746252781276)\n",
              "....  ..........................................................................................................................\n",
              "9999  (31.842205600790837, 29.75844760770036, 29.125322329405932, 22.81931751398763, 10.482307175289462, ..., 36.68760510044376)"
            ],
            "text/html": [
              "\n",
              "    <table>\n",
              "      <thead>\n",
              "        <th width=\"10%\">Index</th>\n",
              "        <th width=\"90%\">Result</th>\n",
              "      </thead>\n",
              "      <tbody>\n",
              "        \n",
              "        <tr>\n",
              "          <td>0</td><td>(15.654275314498983, 22.042176866051243, 11.762838814876414, 32.7884939449175, 33.22092587727262, .....</td>\n",
              "        </tr>\n",
              "        \n",
              "        <tr>\n",
              "          <td>1</td><td>(25.278177243756186, 23.637340710226077, 21.203944641691425, 37.69720646579749, 11.14205026234648, ....</td>\n",
              "        </tr>\n",
              "        \n",
              "        <tr>\n",
              "          <td>2</td><td>(19.10018496768191, 27.827959330283658, 26.99457256670934, 20.094030697488513, 22.459868341287528, ....</td>\n",
              "        </tr>\n",
              "        \n",
              "        <tr>\n",
              "          <td>3</td><td>(28.842931792491072, 20.43458684203622, -6.699300208056826, 15.830126835919554, 16.18940226030703, ....</td>\n",
              "        </tr>\n",
              "        \n",
              "        <tr>\n",
              "          <td>4</td><td>(16.893438585567004, 19.438674676867652, 6.077323800349252, 32.850338936682924, 31.43801415274444, ....</td>\n",
              "        </tr>\n",
              "        \n",
              "        <tr>\n",
              "          <td>5</td><td>(3.9807919106047613, 17.143097206156067, 14.901191601571888, 3.628887312890818, 17.78930585597831, ....</td>\n",
              "        </tr>\n",
              "        \n",
              "        <tr>\n",
              "          <td>6</td><td>(8.42723855131483, 24.197792146683465, 27.941942774326247, 9.743659103928017, 8.371180144026201, ......</td>\n",
              "        </tr>\n",
              "        \n",
              "        <tr>\n",
              "          <td>7</td><td>(19.40289701103349, 30.559047158230488, 6.681538500161571, 17.83271221883119, 19.262198716114177, .....</td>\n",
              "        </tr>\n",
              "        \n",
              "        <tr>\n",
              "          <td>8</td><td>(27.468869909946285, 13.865481279523348, 9.831030697563026, 27.26732600407599, 18.801389222175022, ....</td>\n",
              "        </tr>\n",
              "        <tr><td>...</td><td>...</td></tr>\n",
              "        <tr>\n",
              "          <td>9999</td><td>(31.842205600790837, 29.75844760770036, 29.125322329405932, 22.81931751398763, 10.482307175289462, ....</td>\n",
              "        </tr>\n",
              "        \n",
              "      </tbody>\n",
              "    </table>\n",
              "        "
            ]
          },
          "metadata": {},
          "execution_count": 13
        }
      ]
    },
    {
      "cell_type": "code",
      "source": [
        "# The 2nd parameter is the mathematical operation applied to each row of the random vector\n",
        "# Simulate 10,000 means of each random vector of 25 uniform distributed numbers: \n",
        "ymean = RV(P,mean).sim(10000)\n",
        "ymean"
      ],
      "metadata": {
        "colab": {
          "base_uri": "https://localhost:8080/",
          "height": 275
        },
        "id": "x-AcKDr8r7-N",
        "outputId": "6a2b57cf-a5bb-4444-b0c1-5c06fc767d91"
      },
      "execution_count": 14,
      "outputs": [
        {
          "output_type": "execute_result",
          "data": {
            "text/plain": [
              "Index Result\n",
              "0     19.435708311999555\n",
              "1     18.085004072193282\n",
              "2     21.1579738411372\n",
              "3     22.03245726508205\n",
              "4     20.493385150037806\n",
              "5     18.646060077359085\n",
              "6     18.29718482140306\n",
              "7     19.896664899915606\n",
              "8     19.448776487282554\n",
              "....  .................\n",
              "9999  18.98018641963388"
            ],
            "text/html": [
              "\n",
              "    <table>\n",
              "      <thead>\n",
              "        <th width=\"10%\">Index</th>\n",
              "        <th width=\"90%\">Result</th>\n",
              "      </thead>\n",
              "      <tbody>\n",
              "        \n",
              "        <tr>\n",
              "          <td>0</td><td>19.435708311999555</td>\n",
              "        </tr>\n",
              "        \n",
              "        <tr>\n",
              "          <td>1</td><td>18.085004072193282</td>\n",
              "        </tr>\n",
              "        \n",
              "        <tr>\n",
              "          <td>2</td><td>21.1579738411372</td>\n",
              "        </tr>\n",
              "        \n",
              "        <tr>\n",
              "          <td>3</td><td>22.03245726508205</td>\n",
              "        </tr>\n",
              "        \n",
              "        <tr>\n",
              "          <td>4</td><td>20.493385150037806</td>\n",
              "        </tr>\n",
              "        \n",
              "        <tr>\n",
              "          <td>5</td><td>18.646060077359085</td>\n",
              "        </tr>\n",
              "        \n",
              "        <tr>\n",
              "          <td>6</td><td>18.29718482140306</td>\n",
              "        </tr>\n",
              "        \n",
              "        <tr>\n",
              "          <td>7</td><td>19.896664899915606</td>\n",
              "        </tr>\n",
              "        \n",
              "        <tr>\n",
              "          <td>8</td><td>19.448776487282554</td>\n",
              "        </tr>\n",
              "        <tr><td>...</td><td>...</td></tr>\n",
              "        <tr>\n",
              "          <td>9999</td><td>18.98018641963388</td>\n",
              "        </tr>\n",
              "        \n",
              "      </tbody>\n",
              "    </table>\n",
              "        "
            ]
          },
          "metadata": {},
          "execution_count": 14
        }
      ]
    },
    {
      "cell_type": "code",
      "source": [
        "plt.clf()\n",
        "ymean.plot()\n",
        "plt.show()"
      ],
      "metadata": {
        "colab": {
          "base_uri": "https://localhost:8080/",
          "height": 266
        },
        "id": "YqgRLGilsBuy",
        "outputId": "f3ec948f-fab5-47be-cd55-b20504229e9b"
      },
      "execution_count": 15,
      "outputs": [
        {
          "output_type": "display_data",
          "data": {
            "text/plain": [
              "<Figure size 432x288 with 1 Axes>"
            ],
            "image/png": "[encoded data removed]"
          },
          "metadata": {
            "needs_background": "light"
          }
        }
      ]
    },
    {
      "cell_type": "markdown",
      "source": [
        "2.2.6 CHALLENGE\n",
        "A. CALCULATE THE MEAN AND STANDARD DEVIATION OF THE ymean VARIABLE. HOW SIMILAR OR DIFFERENT ARE THESE VALUES FROM THE MEAN AND STANDARD DEVIATION OF y? **THE MEAN FOR ymean IS VERY CLOSE TO THE y ONE, BUT THE STD IN ymean IS LOWER. IT IS SIMILAR TO THE DIFFERENCE SEEN BETWEEN x AND xmean ABOVE**"
      ],
      "metadata": {
        "id": "s-Mu8wwlrwpu"
      }
    },
    {
      "cell_type": "code",
      "source": [
        "print(ymean.mean())\n",
        "print(ymean.std())"
      ],
      "metadata": {
        "colab": {
          "base_uri": "https://localhost:8080/"
        },
        "id": "U9agTs70tNQq",
        "outputId": "4d01a081-be27-4f3f-cb0b-1dc8ef55bd23"
      },
      "execution_count": 16,
      "outputs": [
        {
          "output_type": "stream",
          "name": "stdout",
          "text": [
            "20.024277979151513\n",
            "2.0173909611288723\n"
          ]
        }
      ]
    },
    {
      "cell_type": "markdown",
      "source": [
        "Plot of both y and ymean variables histogram"
      ],
      "metadata": {
        "id": "Scce_lzxtXbW"
      }
    },
    {
      "cell_type": "code",
      "source": [
        "plt.clf()\n",
        "ymean.plot()\n",
        "y.plot()\n",
        "plt.show()"
      ],
      "metadata": {
        "colab": {
          "base_uri": "https://localhost:8080/",
          "height": 266
        },
        "id": "9EyQoVCxsEHE",
        "outputId": "5cb350b6-c9d4-426a-ef35-0415ec1c4011"
      },
      "execution_count": 17,
      "outputs": [
        {
          "output_type": "display_data",
          "data": {
            "text/plain": [
              "<Figure size 432x288 with 1 Axes>"
            ],
            "image/png": "[encoded data removed]"
          },
          "metadata": {
            "needs_background": "light"
          }
        }
      ]
    },
    {
      "cell_type": "markdown",
      "source": [
        "C. WHAT DO YOU SEE? COMPARE BOTH HISTOGRAMS. BRIEFLY EXPLAIN WHAT DO YOU THINK THAT HAPPENED **BOTH HISTOGRAMS HAVE SOME SIMILAR BEHAVIOR SINCE THE MEAN IS VERY SIMILAR, BUT ALSO THEY HAVE DIFFERENT HEIGHT AND WIDTH SHOWN IN THE PLOT FOR THEIR VALUES IN THE STD, WHERE y HAS A MUCH HIGHER VALUE(10.04) THAN ymean(2.01)**"
      ],
      "metadata": {
        "id": "37PBrgEnsBbn"
      }
    },
    {
      "cell_type": "markdown",
      "source": [
        "\n",
        "\n",
        "4.1 CHALLENGE\n",
        "\n",
        "Collect real data for Microsoft (MSFT) stock and do a hypothesis testing to see whether the mean of monthly cc returns of Microsoft is greater than zero.\n",
        "\n",
        "You have to do the following:\n",
        "\n",
        "Run a t-test to compare whether the mean return of MSFT is greater than zero.\n",
        "\n",
        "To do a hypothesis test, we usually do the following steps:\n",
        "\n",
        "DEFINE THE VARIABLE OF STUDY. In this case it will be the mean of MSFT cc returns\n",
        "\n",
        "WRITE THE NULL AND THE ALTERNATIVE HYPOTHESIS.\n",
        "\n",
        "CALCULATE THE STANDARD ERROR, WHICH IS THE STANDARD DEVIATION OF THE VARIABLE OF STUDY.\n",
        "\n",
        "CALCULATE THE t-statistic (t-value). EXPLAIN/INTERPRET THE t-statistic.\n",
        "\n",
        "CALCULATE THE 95% CONFIDENCE INTERVAL OF THE SAMPLE MEAN\n",
        "\n",
        "WRITE YOUR CONCLUSION OF THE t-TEST"
      ],
      "metadata": {
        "id": "T4DyRHpJ7RpG"
      }
    },
    {
      "cell_type": "markdown",
      "source": [
        "MSFT monthly returns"
      ],
      "metadata": {
        "id": "FFiaPxCe7u0B"
      }
    },
    {
      "cell_type": "code",
      "source": [
        "import pandas_datareader as pdr\n",
        "import numpy as np\n",
        "MSFT = pdr.get_data_yahoo('MSFT', start=\"01/01/2017\", interval=\"m\")\n",
        "MSFT"
      ],
      "metadata": {
        "colab": {
          "base_uri": "https://localhost:8080/",
          "height": 455
        },
        "id": "Is5ddQJu30vi",
        "outputId": "c40267b2-25bc-400c-8473-494fc272205d"
      },
      "execution_count": 20,
      "outputs": [
        {
          "output_type": "execute_result",
          "data": {
            "text/plain": [
              "                  High         Low        Open       Close       Volume  \\\n",
              "Date                                                                      \n",
              "2017-01-01   65.910004   61.950001   62.790001   64.650002  493453500.0   \n",
              "2017-02-01   65.239998   62.750000   64.360001   63.980000  440744000.0   \n",
              "2017-03-01   66.190002   63.619999   64.129997   65.860001  489169700.0   \n",
              "2017-04-01   69.139999   64.849998   65.809998   68.459999  433191200.0   \n",
              "2017-05-01   70.739998   67.139999   68.680000   69.839996  517218500.0   \n",
              "...                ...         ...         ...         ...          ...   \n",
              "2022-05-01  290.880005  246.440002  277.709991  271.869995  742902000.0   \n",
              "2022-06-01  277.690002  241.509995  275.200012  256.829987  621372300.0   \n",
              "2022-07-01  282.000000  245.940002  256.390015  280.739990  534868400.0   \n",
              "2022-08-01  291.910004  272.380005  277.820007  291.910004  212179300.0   \n",
              "2022-08-12  291.910004  286.940002  288.480011  291.910004   22619675.0   \n",
              "\n",
              "             Adj Close  \n",
              "Date                    \n",
              "2017-01-01   59.846729  \n",
              "2017-02-01   59.226517  \n",
              "2017-03-01   61.336460  \n",
              "2017-04-01   63.757862  \n",
              "2017-05-01   65.043076  \n",
              "...                ...  \n",
              "2022-05-01  271.238251  \n",
              "2022-06-01  256.829987  \n",
              "2022-07-01  280.739990  \n",
              "2022-08-01  291.910004  \n",
              "2022-08-12  291.910004  \n",
              "\n",
              "[69 rows x 6 columns]"
            ],
            "text/html": [
              "\n",
              "  <div id=\"df-47309bf0-6f9f-46cc-917d-4a7ebfde071e\">\n",
              "    <div class=\"colab-df-container\">\n",
              "      <div>\n",
              "<style scoped>\n",
              "    .dataframe tbody tr th:only-of-type {\n",
              "        vertical-align: middle;\n",
              "    }\n",
              "\n",
              "    .dataframe tbody tr th {\n",
              "        vertical-align: top;\n",
              "    }\n",
              "\n",
              "    .dataframe thead th {\n",
              "        text-align: right;\n",
              "    }\n",
              "</style>\n",
              "<table border=\"1\" class=\"dataframe\">\n",
              "  <thead>\n",
              "    <tr style=\"text-align: right;\">\n",
              "      <th></th>\n",
              "      <th>High</th>\n",
              "      <th>Low</th>\n",
              "      <th>Open</th>\n",
              "      <th>Close</th>\n",
              "      <th>Volume</th>\n",
              "      <th>Adj Close</th>\n",
              "    </tr>\n",
              "    <tr>\n",
              "      <th>Date</th>\n",
              "      <th></th>\n",
              "      <th></th>\n",
              "      <th></th>\n",
              "      <th></th>\n",
              "      <th></th>\n",
              "      <th></th>\n",
              "    </tr>\n",
              "  </thead>\n",
              "  <tbody>\n",
              "    <tr>\n",
              "      <th>2017-01-01</th>\n",
              "      <td>65.910004</td>\n",
              "      <td>61.950001</td>\n",
              "      <td>62.790001</td>\n",
              "      <td>64.650002</td>\n",
              "      <td>493453500.0</td>\n",
              "      <td>59.846729</td>\n",
              "    </tr>\n",
              "    <tr>\n",
              "      <th>2017-02-01</th>\n",
              "      <td>65.239998</td>\n",
              "      <td>62.750000</td>\n",
              "      <td>64.360001</td>\n",
              "      <td>63.980000</td>\n",
              "      <td>440744000.0</td>\n",
              "      <td>59.226517</td>\n",
              "    </tr>\n",
              "    <tr>\n",
              "      <th>2017-03-01</th>\n",
              "      <td>66.190002</td>\n",
              "      <td>63.619999</td>\n",
              "      <td>64.129997</td>\n",
              "      <td>65.860001</td>\n",
              "      <td>489169700.0</td>\n",
              "      <td>61.336460</td>\n",
              "    </tr>\n",
              "    <tr>\n",
              "      <th>2017-04-01</th>\n",
              "      <td>69.139999</td>\n",
              "      <td>64.849998</td>\n",
              "      <td>65.809998</td>\n",
              "      <td>68.459999</td>\n",
              "      <td>433191200.0</td>\n",
              "      <td>63.757862</td>\n",
              "    </tr>\n",
              "    <tr>\n",
              "      <th>2017-05-01</th>\n",
              "      <td>70.739998</td>\n",
              "      <td>67.139999</td>\n",
              "      <td>68.680000</td>\n",
              "      <td>69.839996</td>\n",
              "      <td>517218500.0</td>\n",
              "      <td>65.043076</td>\n",
              "    </tr>\n",
              "    <tr>\n",
              "      <th>...</th>\n",
              "      <td>...</td>\n",
              "      <td>...</td>\n",
              "      <td>...</td>\n",
              "      <td>...</td>\n",
              "      <td>...</td>\n",
              "      <td>...</td>\n",
              "    </tr>\n",
              "    <tr>\n",
              "      <th>2022-05-01</th>\n",
              "      <td>290.880005</td>\n",
              "      <td>246.440002</td>\n",
              "      <td>277.709991</td>\n",
              "      <td>271.869995</td>\n",
              "      <td>742902000.0</td>\n",
              "      <td>271.238251</td>\n",
              "    </tr>\n",
              "    <tr>\n",
              "      <th>2022-06-01</th>\n",
              "      <td>277.690002</td>\n",
              "      <td>241.509995</td>\n",
              "      <td>275.200012</td>\n",
              "      <td>256.829987</td>\n",
              "      <td>621372300.0</td>\n",
              "      <td>256.829987</td>\n",
              "    </tr>\n",
              "    <tr>\n",
              "      <th>2022-07-01</th>\n",
              "      <td>282.000000</td>\n",
              "      <td>245.940002</td>\n",
              "      <td>256.390015</td>\n",
              "      <td>280.739990</td>\n",
              "      <td>534868400.0</td>\n",
              "      <td>280.739990</td>\n",
              "    </tr>\n",
              "    <tr>\n",
              "      <th>2022-08-01</th>\n",
              "      <td>291.910004</td>\n",
              "      <td>272.380005</td>\n",
              "      <td>277.820007</td>\n",
              "      <td>291.910004</td>\n",
              "      <td>212179300.0</td>\n",
              "      <td>291.910004</td>\n",
              "    </tr>\n",
              "    <tr>\n",
              "      <th>2022-08-12</th>\n",
              "      <td>291.910004</td>\n",
              "      <td>286.940002</td>\n",
              "      <td>288.480011</td>\n",
              "      <td>291.910004</td>\n",
              "      <td>22619675.0</td>\n",
              "      <td>291.910004</td>\n",
              "    </tr>\n",
              "  </tbody>\n",
              "</table>\n",
              "<p>69 rows × 6 columns</p>\n",
              "</div>\n",
              "      <button class=\"colab-df-convert\" onclick=\"convertToInteractive('df-47309bf0-6f9f-46cc-917d-4a7ebfde071e')\"\n",
              "              title=\"Convert this dataframe to an interactive table.\"\n",
              "              style=\"display:none;\">\n",
              "        \n",
              "  <svg xmlns=\"http://www.w3.org/2000/svg\" height=\"24px\"viewBox=\"0 0 24 24\"\n",
              "       width=\"24px\">\n",
              "    <path d=\"M0 0h24v24H0V0z\" fill=\"none\"/>\n",
              "    <path d=\"M18.56 5.44l.94 2.06.94-2.06 2.06-.94-2.06-.94-.94-2.06-.94 2.06-2.06.94zm-11 1L8.5 8.5l.94-2.06 2.06-.94-2.06-.94L8.5 2.5l-.94 2.06-2.06.94zm10 10l.94 2.06.94-2.06 2.06-.94-2.06-.94-.94-2.06-.94 2.06-2.06.94z\"/><path d=\"M17.41 7.96l-1.37-1.37c-.4-.4-.92-.59-1.43-.59-.52 0-1.04.2-1.43.59L10.3 9.45l-7.72 7.72c-.78.78-.78 2.05 0 2.83L4 21.41c.39.39.9.59 1.41.59.51 0 1.02-.2 1.41-.59l7.78-7.78 2.81-2.81c.8-.78.8-2.07 0-2.86zM5.41 20L4 18.59l7.72-7.72 1.47 1.35L5.41 20z\"/>\n",
              "  </svg>\n",
              "      </button>\n",
              "      \n",
              "  <style>\n",
              "    .colab-df-container {\n",
              "      display:flex;\n",
              "      flex-wrap:wrap;\n",
              "      gap: 12px;\n",
              "    }\n",
              "\n",
              "    .colab-df-convert {\n",
              "      background-color: #E8F0FE;\n",
              "      border: none;\n",
              "      border-radius: 50%;\n",
              "      cursor: pointer;\n",
              "      display: none;\n",
              "      fill: #1967D2;\n",
              "      height: 32px;\n",
              "      padding: 0 0 0 0;\n",
              "      width: 32px;\n",
              "    }\n",
              "\n",
              "    .colab-df-convert:hover {\n",
              "      background-color: #E2EBFA;\n",
              "      box-shadow: 0px 1px 2px rgba(60, 64, 67, 0.3), 0px 1px 3px 1px rgba(60, 64, 67, 0.15);\n",
              "      fill: #174EA6;\n",
              "    }\n",
              "\n",
              "    [theme=dark] .colab-df-convert {\n",
              "      background-color: #3B4455;\n",
              "      fill: #D2E3FC;\n",
              "    }\n",
              "\n",
              "    [theme=dark] .colab-df-convert:hover {\n",
              "      background-color: #434B5C;\n",
              "      box-shadow: 0px 1px 3px 1px rgba(0, 0, 0, 0.15);\n",
              "      filter: drop-shadow(0px 1px 2px rgba(0, 0, 0, 0.3));\n",
              "      fill: #FFFFFF;\n",
              "    }\n",
              "  </style>\n",
              "\n",
              "      <script>\n",
              "        const buttonEl =\n",
              "          document.querySelector('#df-47309bf0-6f9f-46cc-917d-4a7ebfde071e button.colab-df-convert');\n",
              "        buttonEl.style.display =\n",
              "          google.colab.kernel.accessAllowed ? 'block' : 'none';\n",
              "\n",
              "        async function convertToInteractive(key) {\n",
              "          const element = document.querySelector('#df-47309bf0-6f9f-46cc-917d-4a7ebfde071e');\n",
              "          const dataTable =\n",
              "            await google.colab.kernel.invokeFunction('convertToInteractive',\n",
              "                                                     [key], {});\n",
              "          if (!dataTable) return;\n",
              "\n",
              "          const docLinkHtml = 'Like what you see? Visit the ' +\n",
              "            '<a target=\"_blank\" href=https://colab.research.google.com/notebooks/data_table.ipynb>data table notebook</a>'\n",
              "            + ' to learn more about interactive tables.';\n",
              "          element.innerHTML = '';\n",
              "          dataTable['output_type'] = 'display_data';\n",
              "          await google.colab.output.renderOutput(dataTable, element);\n",
              "          const docLink = document.createElement('div');\n",
              "          docLink.innerHTML = docLinkHtml;\n",
              "          element.appendChild(docLink);\n",
              "        }\n",
              "      </script>\n",
              "    </div>\n",
              "  </div>\n",
              "  "
            ]
          },
          "metadata": {},
          "execution_count": 20
        }
      ]
    },
    {
      "cell_type": "code",
      "source": [
        "MSFT[\"r\"] = np.log(MSFT['Adj Close']) - np.log(MSFT['Adj Close'].shift(1))\n",
        "MSFTR = MSFT[['r']].copy()\n",
        "MSFT=MSFT.dropna()\n",
        "MSFT"
      ],
      "metadata": {
        "colab": {
          "base_uri": "https://localhost:8080/",
          "height": 455
        },
        "id": "FCA7ui2M6QGf",
        "outputId": "93c074c5-06f6-4940-c57f-2e4ef59eda03"
      },
      "execution_count": 23,
      "outputs": [
        {
          "output_type": "execute_result",
          "data": {
            "text/plain": [
              "                  High         Low        Open       Close       Volume  \\\n",
              "Date                                                                      \n",
              "2017-04-01   69.139999   64.849998   65.809998   68.459999  433191200.0   \n",
              "2017-05-01   70.739998   67.139999   68.680000   69.839996  517218500.0   \n",
              "2017-06-01   72.889999   68.089996   70.239998   68.930000  629716800.0   \n",
              "2017-07-01   74.419998   68.019997   69.330002   72.699997  469851200.0   \n",
              "2017-08-01   74.959999   71.279999   73.099998   74.769997  444070500.0   \n",
              "...                ...         ...         ...         ...          ...   \n",
              "2022-05-01  290.880005  246.440002  277.709991  271.869995  742902000.0   \n",
              "2022-06-01  277.690002  241.509995  275.200012  256.829987  621372300.0   \n",
              "2022-07-01  282.000000  245.940002  256.390015  280.739990  534868400.0   \n",
              "2022-08-01  291.910004  272.380005  277.820007  291.910004  212179300.0   \n",
              "2022-08-12  291.910004  286.940002  288.480011  291.910004   22619675.0   \n",
              "\n",
              "             Adj Close         r  \n",
              "Date                              \n",
              "2017-04-01   63.757862  0.038718  \n",
              "2017-05-01   65.043076  0.019957  \n",
              "2017-06-01   64.563568 -0.007399  \n",
              "2017-07-01   68.094742  0.053250  \n",
              "2017-08-01   70.033600  0.028075  \n",
              "...                ...       ...  \n",
              "2022-05-01  271.238251 -0.020569  \n",
              "2022-06-01  256.829987 -0.054583  \n",
              "2022-07-01  280.739990  0.089015  \n",
              "2022-08-01  291.910004  0.039017  \n",
              "2022-08-12  291.910004  0.000000  \n",
              "\n",
              "[66 rows x 7 columns]"
            ],
            "text/html": [
              "\n",
              "  <div id=\"df-984158a3-2bef-4700-9e54-74c054967ce5\">\n",
              "    <div class=\"colab-df-container\">\n",
              "      <div>\n",
              "<style scoped>\n",
              "    .dataframe tbody tr th:only-of-type {\n",
              "        vertical-align: middle;\n",
              "    }\n",
              "\n",
              "    .dataframe tbody tr th {\n",
              "        vertical-align: top;\n",
              "    }\n",
              "\n",
              "    .dataframe thead th {\n",
              "        text-align: right;\n",
              "    }\n",
              "</style>\n",
              "<table border=\"1\" class=\"dataframe\">\n",
              "  <thead>\n",
              "    <tr style=\"text-align: right;\">\n",
              "      <th></th>\n",
              "      <th>High</th>\n",
              "      <th>Low</th>\n",
              "      <th>Open</th>\n",
              "      <th>Close</th>\n",
              "      <th>Volume</th>\n",
              "      <th>Adj Close</th>\n",
              "      <th>r</th>\n",
              "    </tr>\n",
              "    <tr>\n",
              "      <th>Date</th>\n",
              "      <th></th>\n",
              "      <th></th>\n",
              "      <th></th>\n",
              "      <th></th>\n",
              "      <th></th>\n",
              "      <th></th>\n",
              "      <th></th>\n",
              "    </tr>\n",
              "  </thead>\n",
              "  <tbody>\n",
              "    <tr>\n",
              "      <th>2017-04-01</th>\n",
              "      <td>69.139999</td>\n",
              "      <td>64.849998</td>\n",
              "      <td>65.809998</td>\n",
              "      <td>68.459999</td>\n",
              "      <td>433191200.0</td>\n",
              "      <td>63.757862</td>\n",
              "      <td>0.038718</td>\n",
              "    </tr>\n",
              "    <tr>\n",
              "      <th>2017-05-01</th>\n",
              "      <td>70.739998</td>\n",
              "      <td>67.139999</td>\n",
              "      <td>68.680000</td>\n",
              "      <td>69.839996</td>\n",
              "      <td>517218500.0</td>\n",
              "      <td>65.043076</td>\n",
              "      <td>0.019957</td>\n",
              "    </tr>\n",
              "    <tr>\n",
              "      <th>2017-06-01</th>\n",
              "      <td>72.889999</td>\n",
              "      <td>68.089996</td>\n",
              "      <td>70.239998</td>\n",
              "      <td>68.930000</td>\n",
              "      <td>629716800.0</td>\n",
              "      <td>64.563568</td>\n",
              "      <td>-0.007399</td>\n",
              "    </tr>\n",
              "    <tr>\n",
              "      <th>2017-07-01</th>\n",
              "      <td>74.419998</td>\n",
              "      <td>68.019997</td>\n",
              "      <td>69.330002</td>\n",
              "      <td>72.699997</td>\n",
              "      <td>469851200.0</td>\n",
              "      <td>68.094742</td>\n",
              "      <td>0.053250</td>\n",
              "    </tr>\n",
              "    <tr>\n",
              "      <th>2017-08-01</th>\n",
              "      <td>74.959999</td>\n",
              "      <td>71.279999</td>\n",
              "      <td>73.099998</td>\n",
              "      <td>74.769997</td>\n",
              "      <td>444070500.0</td>\n",
              "      <td>70.033600</td>\n",
              "      <td>0.028075</td>\n",
              "    </tr>\n",
              "    <tr>\n",
              "      <th>...</th>\n",
              "      <td>...</td>\n",
              "      <td>...</td>\n",
              "      <td>...</td>\n",
              "      <td>...</td>\n",
              "      <td>...</td>\n",
              "      <td>...</td>\n",
              "      <td>...</td>\n",
              "    </tr>\n",
              "    <tr>\n",
              "      <th>2022-05-01</th>\n",
              "      <td>290.880005</td>\n",
              "      <td>246.440002</td>\n",
              "      <td>277.709991</td>\n",
              "      <td>271.869995</td>\n",
              "      <td>742902000.0</td>\n",
              "      <td>271.238251</td>\n",
              "      <td>-0.020569</td>\n",
              "    </tr>\n",
              "    <tr>\n",
              "      <th>2022-06-01</th>\n",
              "      <td>277.690002</td>\n",
              "      <td>241.509995</td>\n",
              "      <td>275.200012</td>\n",
              "      <td>256.829987</td>\n",
              "      <td>621372300.0</td>\n",
              "      <td>256.829987</td>\n",
              "      <td>-0.054583</td>\n",
              "    </tr>\n",
              "    <tr>\n",
              "      <th>2022-07-01</th>\n",
              "      <td>282.000000</td>\n",
              "      <td>245.940002</td>\n",
              "      <td>256.390015</td>\n",
              "      <td>280.739990</td>\n",
              "      <td>534868400.0</td>\n",
              "      <td>280.739990</td>\n",
              "      <td>0.089015</td>\n",
              "    </tr>\n",
              "    <tr>\n",
              "      <th>2022-08-01</th>\n",
              "      <td>291.910004</td>\n",
              "      <td>272.380005</td>\n",
              "      <td>277.820007</td>\n",
              "      <td>291.910004</td>\n",
              "      <td>212179300.0</td>\n",
              "      <td>291.910004</td>\n",
              "      <td>0.039017</td>\n",
              "    </tr>\n",
              "    <tr>\n",
              "      <th>2022-08-12</th>\n",
              "      <td>291.910004</td>\n",
              "      <td>286.940002</td>\n",
              "      <td>288.480011</td>\n",
              "      <td>291.910004</td>\n",
              "      <td>22619675.0</td>\n",
              "      <td>291.910004</td>\n",
              "      <td>0.000000</td>\n",
              "    </tr>\n",
              "  </tbody>\n",
              "</table>\n",
              "<p>66 rows × 7 columns</p>\n",
              "</div>\n",
              "      <button class=\"colab-df-convert\" onclick=\"convertToInteractive('df-984158a3-2bef-4700-9e54-74c054967ce5')\"\n",
              "              title=\"Convert this dataframe to an interactive table.\"\n",
              "              style=\"display:none;\">\n",
              "        \n",
              "  <svg xmlns=\"http://www.w3.org/2000/svg\" height=\"24px\"viewBox=\"0 0 24 24\"\n",
              "       width=\"24px\">\n",
              "    <path d=\"M0 0h24v24H0V0z\" fill=\"none\"/>\n",
              "    <path d=\"M18.56 5.44l.94 2.06.94-2.06 2.06-.94-2.06-.94-.94-2.06-.94 2.06-2.06.94zm-11 1L8.5 8.5l.94-2.06 2.06-.94-2.06-.94L8.5 2.5l-.94 2.06-2.06.94zm10 10l.94 2.06.94-2.06 2.06-.94-2.06-.94-.94-2.06-.94 2.06-2.06.94z\"/><path d=\"M17.41 7.96l-1.37-1.37c-.4-.4-.92-.59-1.43-.59-.52 0-1.04.2-1.43.59L10.3 9.45l-7.72 7.72c-.78.78-.78 2.05 0 2.83L4 21.41c.39.39.9.59 1.41.59.51 0 1.02-.2 1.41-.59l7.78-7.78 2.81-2.81c.8-.78.8-2.07 0-2.86zM5.41 20L4 18.59l7.72-7.72 1.47 1.35L5.41 20z\"/>\n",
              "  </svg>\n",
              "      </button>\n",
              "      \n",
              "  <style>\n",
              "    .colab-df-container {\n",
              "      display:flex;\n",
              "      flex-wrap:wrap;\n",
              "      gap: 12px;\n",
              "    }\n",
              "\n",
              "    .colab-df-convert {\n",
              "      background-color: #E8F0FE;\n",
              "      border: none;\n",
              "      border-radius: 50%;\n",
              "      cursor: pointer;\n",
              "      display: none;\n",
              "      fill: #1967D2;\n",
              "      height: 32px;\n",
              "      padding: 0 0 0 0;\n",
              "      width: 32px;\n",
              "    }\n",
              "\n",
              "    .colab-df-convert:hover {\n",
              "      background-color: #E2EBFA;\n",
              "      box-shadow: 0px 1px 2px rgba(60, 64, 67, 0.3), 0px 1px 3px 1px rgba(60, 64, 67, 0.15);\n",
              "      fill: #174EA6;\n",
              "    }\n",
              "\n",
              "    [theme=dark] .colab-df-convert {\n",
              "      background-color: #3B4455;\n",
              "      fill: #D2E3FC;\n",
              "    }\n",
              "\n",
              "    [theme=dark] .colab-df-convert:hover {\n",
              "      background-color: #434B5C;\n",
              "      box-shadow: 0px 1px 3px 1px rgba(0, 0, 0, 0.15);\n",
              "      filter: drop-shadow(0px 1px 2px rgba(0, 0, 0, 0.3));\n",
              "      fill: #FFFFFF;\n",
              "    }\n",
              "  </style>\n",
              "\n",
              "      <script>\n",
              "        const buttonEl =\n",
              "          document.querySelector('#df-984158a3-2bef-4700-9e54-74c054967ce5 button.colab-df-convert');\n",
              "        buttonEl.style.display =\n",
              "          google.colab.kernel.accessAllowed ? 'block' : 'none';\n",
              "\n",
              "        async function convertToInteractive(key) {\n",
              "          const element = document.querySelector('#df-984158a3-2bef-4700-9e54-74c054967ce5');\n",
              "          const dataTable =\n",
              "            await google.colab.kernel.invokeFunction('convertToInteractive',\n",
              "                                                     [key], {});\n",
              "          if (!dataTable) return;\n",
              "\n",
              "          const docLinkHtml = 'Like what you see? Visit the ' +\n",
              "            '<a target=\"_blank\" href=https://colab.research.google.com/notebooks/data_table.ipynb>data table notebook</a>'\n",
              "            + ' to learn more about interactive tables.';\n",
              "          element.innerHTML = '';\n",
              "          dataTable['output_type'] = 'display_data';\n",
              "          await google.colab.output.renderOutput(dataTable, element);\n",
              "          const docLink = document.createElement('div');\n",
              "          docLink.innerHTML = docLinkHtml;\n",
              "          element.appendChild(docLink);\n",
              "        }\n",
              "      </script>\n",
              "    </div>\n",
              "  </div>\n",
              "  "
            ]
          },
          "metadata": {},
          "execution_count": 23
        }
      ]
    },
    {
      "cell_type": "markdown",
      "source": [
        "summary of the returns"
      ],
      "metadata": {
        "id": "wJpIum7874QQ"
      }
    },
    {
      "cell_type": "code",
      "source": [
        "sum = MSFT['r'].describe()\n",
        "sum"
      ],
      "metadata": {
        "colab": {
          "base_uri": "https://localhost:8080/"
        },
        "id": "GXtx-gTG6pVT",
        "outputId": "32567d27-c5a8-4f6c-ed3d-3dc2121e14f3"
      },
      "execution_count": 24,
      "outputs": [
        {
          "output_type": "execute_result",
          "data": {
            "text/plain": [
              "count    66.000000\n",
              "mean      0.023637\n",
              "std       0.054810\n",
              "min      -0.105213\n",
              "25%      -0.006327\n",
              "50%       0.023323\n",
              "75%       0.055701\n",
              "max       0.162366\n",
              "Name: r, dtype: float64"
            ]
          },
          "metadata": {},
          "execution_count": 24
        }
      ]
    },
    {
      "cell_type": "markdown",
      "source": [
        "mean of the returns"
      ],
      "metadata": {
        "id": "3AXasQYA7714"
      }
    },
    {
      "cell_type": "code",
      "source": [
        "mean = sum['mean']\n",
        "mean"
      ],
      "metadata": {
        "colab": {
          "base_uri": "https://localhost:8080/"
        },
        "id": "Ec5Q79Vq69sb",
        "outputId": "261266b1-9460-49be-a78a-cab81072fdcb"
      },
      "execution_count": 26,
      "outputs": [
        {
          "output_type": "execute_result",
          "data": {
            "text/plain": [
              "0.023637440914742146"
            ]
          },
          "metadata": {},
          "execution_count": 26
        }
      ]
    },
    {
      "cell_type": "markdown",
      "source": [
        "std from calculating the given std in the summary division between the square root of the number of monthly returns"
      ],
      "metadata": {
        "id": "7YNXdXmY79xW"
      }
    },
    {
      "cell_type": "code",
      "source": [
        "std = sum['std'] /sqrt(len(MSFT))\n",
        "std"
      ],
      "metadata": {
        "colab": {
          "base_uri": "https://localhost:8080/"
        },
        "id": "g70uWtbh6yvd",
        "outputId": "f75fece5-2e94-4fba-df1f-5062c48c565a"
      },
      "execution_count": 25,
      "outputs": [
        {
          "output_type": "execute_result",
          "data": {
            "text/plain": [
              "0.006746659424441501"
            ]
          },
          "metadata": {},
          "execution_count": 25
        }
      ]
    },
    {
      "cell_type": "markdown",
      "source": [
        "Since we have a bigger mean(0.023) than the calculated std(0.006), the cc return of MST is bigger than zero or at least in a 95%"
      ],
      "metadata": {
        "id": "QZFvT73O8ZWI"
      }
    },
    {
      "cell_type": "code",
      "source": [
        "mean >= 0 + std * 2"
      ],
      "metadata": {
        "colab": {
          "base_uri": "https://localhost:8080/"
        },
        "id": "FYLfN3vI65vS",
        "outputId": "7d07c700-47ca-4d8a-cad3-5341ef057873"
      },
      "execution_count": 27,
      "outputs": [
        {
          "output_type": "execute_result",
          "data": {
            "text/plain": [
              "True"
            ]
          },
          "metadata": {},
          "execution_count": 27
        }
      ]
    }
  ]
}